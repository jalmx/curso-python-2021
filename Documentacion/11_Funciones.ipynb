{
 "cells": [
  {
   "cell_type": "markdown",
   "id": "special-performance",
   "metadata": {},
   "source": [
    "![banner](../logo/banner.png)"
   ]
  },
  {
   "cell_type": "markdown",
   "id": "wicked-hampshire",
   "metadata": {},
   "source": [
    "# Funciones\n",
    "\n",
    "Bloque de codigo reutilizable que puede ser llamado n cantidad de veces, debe ser corta,  hacer una sola cosa (resuelve un problema) y hacerla bien.\n",
    "\n",
    "## Como se nombran las funciones (Buenas practicas)\n",
    "\n",
    "- El nombre es una `accion` es decir un verbo\n",
    "- El nombre debe ser en minusculas\n",
    "- No tiene espacios el nombre, por lo tanto, son `separados por guion bajo(_)`\n",
    "\n",
    "## Como escribo una funcion y como la utilizo\n",
    "\n",
    "**Sintaxis**\n",
    "\n",
    "```python\n",
    "def name_function():\n",
    "    #body function\n",
    "    #code block \n",
    "    #code block \n",
    "    #code block \n",
    "    #code block \n",
    "```\n",
    "\n",
    "Como la llamo a la funcion:\n",
    "\n",
    "```python\n",
    "nombre_funcion()\n",
    "```"
   ]
  },
  {
   "cell_type": "code",
   "execution_count": 60,
   "id": "sorted-newsletter",
   "metadata": {},
   "outputs": [
    {
     "name": "stdout",
     "output_type": "stream",
     "text": [
      "Hola a todos!!! xD\n",
      "4\n"
     ]
    }
   ],
   "source": [
    "def elevar_cuadrado():\n",
    "    '''Esta funcion eleva al cuadrado el numero 2'''\n",
    "    cuadrado = 2 ** 2\n",
    "    print(cuadrado)\n",
    "    \n",
    "\n",
    "def saludar():\n",
    "    '''\n",
    "    Esta funcion manda un saludo\n",
    "    ''' \n",
    "    print('Hola a todos!!! xD')\n",
    "\n",
    "saludar()\n",
    "elevar_cuadrado()"
   ]
  },
  {
   "cell_type": "markdown",
   "id": "featured-texture",
   "metadata": {},
   "source": [
    "**Ejercicios:**\n",
    "\n",
    "1. Realizar una funcion que en su cuerpo realice la suma de dos numeros (estos estan dados por ustedes), e imprimir el resultado, es decir, cuando se invoque\n",
    "\n",
    "2. Realizar una funcion que en su cuerpo realice la impresion de 3 mensajes, los que ustedes quiereran, y al invocarla que salgan esos mensajes"
   ]
  },
  {
   "cell_type": "markdown",
   "id": "external-scotland",
   "metadata": {},
   "source": [
    "## Funciones con parametros \n",
    "\n",
    "Las funciones en ocasiones necesitan parametros para funcionar y poder realizar la accion.\n",
    "\n",
    "Parametro = Argumento = variable\n",
    "\n",
    "**Como escribo una funcion y como la utilizo**\n",
    "\n",
    "**Sintaxis**\n",
    "\n",
    "```python\n",
    "def name_function(argumeto1, argumentos2, ..., argumentosN):\n",
    "    #body function\n",
    "    #code block \n",
    "    #code block \n",
    "    #code block \n",
    "    #code block \n",
    "```\n",
    "\n",
    "*Como la llamo a la funcion, coloco su nombre, abro parentesis y coloco los argumentos que necesita:*\n",
    "\n",
    "```python\n",
    "nombre_funcion(arg1, arg2...)\n",
    "```"
   ]
  },
  {
   "cell_type": "code",
   "execution_count": 67,
   "id": "hollow-hundred",
   "metadata": {},
   "outputs": [
    {
     "name": "stdout",
     "output_type": "stream",
     "text": [
      "Hola Axel, que chido es conocerte!!!\n",
      "Hola Melani, que chido es conocerte!!!\n",
      "Hola David, que chido es conocerte!!!\n",
      "Hola Raul, que chido es conocerte!!!\n",
      "2 elevado a la 3 es: 8\n",
      "3 elevado a la 3 es: 27\n"
     ]
    }
   ],
   "source": [
    "# base ^ potencia   -> 2^3 = 8\n",
    "\n",
    "def potencia(base:float, potencia:int):\n",
    "    resultado = base ** potencia\n",
    "    print(f'{base} elevado a la {potencia} es: {resultado}')\n",
    "\n",
    "\n",
    "def saludo2(nombre:str):\n",
    "    '''Funcion que imprime un mensaje personalizado'''\n",
    "    print(f'Hola {nombre}, que chido es conocerte!!!')\n",
    "    \n",
    "saludo2('Axel')\n",
    "saludo2('Melani')\n",
    "saludo2('David')\n",
    "saludo2('Raul')\n",
    "\n",
    "potencia(2,3)\n",
    "potencia(3,3)\n"
   ]
  },
  {
   "cell_type": "markdown",
   "id": "naval-answer",
   "metadata": {},
   "source": [
    "**Ejercicios:**\n",
    "\n",
    "1. Realizar una funcion que realice el calculo del area del circulo, la funcion recibe el radio. Ocupando las funciones de la libreria `math`.\n",
    "\n",
    "2. Realizar una funcion que reciba el nombre y la edad, y que imprima un mensaje con estos datos, ejemplo: \"Hola 'alejandro'  que buena onda que tengas '20' anios\"\n",
    "\n"
   ]
  },
  {
   "cell_type": "markdown",
   "id": "excessive-titanium",
   "metadata": {},
   "source": [
    "## Funciones con parametros por default u opcionales\n",
    "\n",
    "Las funciones en ocasiones necesitan parametros para funcionar, pero no es necesario pasarle todos los parametros requeridos, dado que pueden ser opcionales y poder realizar la accion.\n",
    "\n",
    "Parametro = Argumento = variable\n",
    "\n",
    "**Como escribo una funcion y como la utilizo**\n",
    "\n",
    "**Sintaxis**\n",
    "\n",
    "```python\n",
    "def name_function(argumeto1=valor, argumentos2=valor, ..., argumentosN=valorN):\n",
    "    #body function\n",
    "    #code block \n",
    "    #code block \n",
    "    #code block \n",
    "    #code block \n",
    "```\n",
    "\n",
    "*Como la llamo a la funcion, coloco su nombre, abro parentesis y coloco los argumentos que necesita:*\n",
    "\n",
    "```python\n",
    "nombre_funcion(arg1, ... [arg2])\n",
    "```"
   ]
  },
  {
   "cell_type": "code",
   "execution_count": 8,
   "id": "pending-disposition",
   "metadata": {},
   "outputs": [
    {
     "name": "stdout",
     "output_type": "stream",
     "text": [
      "Hola Desconocido, que chido es conocerte!!!\n",
      "Hola Ricardo, que chido es conocerte!!!\n",
      "1\n",
      "9\n",
      "27\n",
      "81\n",
      "--------------------\n",
      "0\n",
      "1\n",
      "--------------------\n"
     ]
    }
   ],
   "source": [
    "def saludo3(nombre:str = 'Desconocido'):\n",
    "    '''Funcion que imprime un mensaje personalizado'''\n",
    "    print(f'Hola {nombre}, que chido es conocerte!!!')\n",
    "    \n",
    "def potencia2(base=1, potencia = 2):\n",
    "    '''Por default eleva al cuadrado la base'''\n",
    "    resultado = pow(base, potencia)\n",
    "    print(resultado)\n",
    "\n",
    "def imprir_0_10(tope=10):\n",
    "    print('--------------------')\n",
    "    for i in range(tope+1):\n",
    "        print(i)\n",
    "    print('--------------------')\n",
    "\n",
    "saludo3()\n",
    "saludo3('Ricardo')\n",
    "\n",
    "potencia2()\n",
    "potencia2(3)\n",
    "potencia2(3,3)\n",
    "potencia2(3,4)\n",
    "\n",
    "imprir_0_10(1)"
   ]
  },
  {
   "cell_type": "markdown",
   "id": "heated-mouse",
   "metadata": {},
   "source": [
    "**Ejercicios:**\n",
    "\n",
    "1. Crear una funcion que reciba la edad, pero la edad es opcion, por default que tenga el valor de 15, y que mande a imprimir si es menor o mayor de edad, pero si es 15, que imprima tambien, la frase \"Creo que no me pasaste la edad, tramposo!\"\n",
    "2. Crear una funcion que calcule el area de cuadrados y rectangulos, la funcion recibe 2 parametros, la base y la altura, pero cuando es cuadrado solo recibe uno, por lo tanto, el segundo parametros es opcional, el segundo parametros por default es 0. "
   ]
  },
  {
   "cell_type": "markdown",
   "id": "legal-height",
   "metadata": {},
   "source": [
    "## Retornado valores de una funcion\n",
    "\n",
    "En ocasiones necesitamos que la funcion nos devuelva informacion, es decir, que realice la operacion y nos devuelva ese resultado, para ello ocupamos la palabra reservada `return`. El valor que devuelve normalmente lo debemos guardar.\n",
    "\n",
    "**Como escribo una funcion y como la utilizo**\n",
    "\n",
    "**Sintaxis**\n",
    "\n",
    "```python\n",
    "def name_function([argumeto1, argumentos2=valor, ..., argumentosN]):\n",
    "    #body function\n",
    "    #code block \n",
    "    #code block \n",
    "    #code block \n",
    "    #code block \n",
    "    return valor\n",
    "```\n",
    "\n",
    "*Como la llamo a la funcion, coloco su nombre, abro parentesis y coloco los argumentos que necesita y ese resultado lo guardamos en una variable:*\n",
    "\n",
    "```python\n",
    "resultado = nombre_funcion([arg1, ... arg2])\n",
    "```\n"
   ]
  },
  {
   "cell_type": "code",
   "execution_count": 20,
   "id": "greek-spider",
   "metadata": {},
   "outputs": [
    {
     "name": "stdout",
     "output_type": "stream",
     "text": [
      "Que onda Pricila!!, la estamos pasando chido!!!\n",
      "Que onda Pricila!!, la estamos pasando chido!!! vamos por la coca\n",
      "El area del triangulo es: 10.5\n"
     ]
    }
   ],
   "source": [
    "from math import pi\n",
    "\n",
    "def mensaje_perzonalizado(nombre:str):\n",
    "    mensaje = f'Que onda {nombre}!!, la estamos pasando chido!!!'\n",
    "    \n",
    "    return mensaje\n",
    "\n",
    "def area_triangulo(base, altura):\n",
    "    area = (base * altura) /2\n",
    "    return area    \n",
    "\n",
    "mensaje = mensaje_perzonalizado('Pricila')\n",
    "\n",
    "print(mensaje)\n",
    "\n",
    "mensaje += ' vamos por la coca'\n",
    "print(mensaje) \n",
    "\n",
    "area_t = area_triangulo(3,7)\n",
    "print(f'El area del triangulo es: {area_t}')"
   ]
  },
  {
   "cell_type": "code",
   "execution_count": 30,
   "id": "engaging-adobe",
   "metadata": {},
   "outputs": [
    {
     "name": "stdout",
     "output_type": "stream",
     "text": [
      "El area es 78.53981633974483\n",
      "El perimetro es 31.41592653589793\n"
     ]
    }
   ],
   "source": [
    "def operaciones_circulo(radio, area='area'):\n",
    "    '''\n",
    "    Esta funcion realiza la operacion del area o perimetro \n",
    "    en funcion de la variable area\n",
    "    '''\n",
    "    if area == 'area':\n",
    "        return pi * pow(radio,2)\n",
    "    else:\n",
    "        return 2 * pi * radio\n",
    "    \n",
    "print(f\"El area es {operaciones_circulo(5,'area')}\")\n",
    "print(f'El perimetro es {operaciones_circulo(5,\"perimetro\")}')"
   ]
  },
  {
   "cell_type": "markdown",
   "id": "smoking-rebecca",
   "metadata": {},
   "source": [
    "**Ejercicios:**\n",
    "\n",
    "1. Crear una funcion que calcule el promedio, pasandole los 3 parciales y te devuelve el resultado. Despues indicar si aprobo o esta en recursa.\n",
    "2. Crear las funciones de ley de ohm, una que calcule resistencia, corriente y otra voltaje, pasando el parametro necesario: Ejemplo de aplicacion:\n",
    "    - r = resistencia(10, 0.5)\n",
    "    - i = corriente(10, 1000)\n",
    "    - r = voltaje(10, 5)"
   ]
  },
  {
   "cell_type": "markdown",
   "id": "better-notice",
   "metadata": {},
   "source": [
    "## Funciones con parametros nombrados\n",
    "\n",
    "Normalmente pasamos argumentos a las funciones con un orden orden establecido, y el orden que le coloco el programador, pero hay una forma de poder los argumentos en un orden cual sea, pero se debe especificar que argumento es.\n",
    "\n",
    "*Nota: Los parametros nombrados y tambien con valores por default van al final se colocan al final*\n",
    "\n",
    "Como escribo una funcion y como la utilizo.\n",
    "\n",
    "**Sintaxis**\n",
    "\n",
    "```python\n",
    "def name_function(variable1, variable2 = 'str'):\n",
    "    #body function\n",
    "    #code block \n",
    "    #code block \n",
    "    #code block \n",
    "    #code block \n",
    "    return valor\n",
    "```\n",
    "Como la llamo a la funcion, coloco su nombre, abro parentesis y coloco los argumentos que necesita indicando su nombre con su valor, sin importar el orden:\n",
    "\n",
    "```python\n",
    "name_function(variable2='pokemon', variable1=10)\n",
    "```"
   ]
  },
  {
   "cell_type": "code",
   "execution_count": 5,
   "id": "ca14b1f3",
   "metadata": {},
   "outputs": [
    {
     "name": "stdout",
     "output_type": "stream",
     "text": [
      "Mi pokemo se llama pikachu con un poder de 25\n"
     ]
    }
   ],
   "source": [
    "def create_pokemon(name = 'unknown', power=0):\n",
    "    pokemon = f'Mi pokemo se llama {name} con un poder de {power}'\n",
    "    return pokemon\n",
    "\n",
    "print( create_pokemon(power=25, name='pikachu'))"
   ]
  },
  {
   "cell_type": "markdown",
   "id": "c6ad4de8",
   "metadata": {},
   "source": [
    "## Devolviendo varios valores\n",
    "\n",
    "TODO"
   ]
  },
  {
   "cell_type": "markdown",
   "id": "e8fb6d43",
   "metadata": {},
   "source": [
    "## Recibiendo infinitos argumentos (\\*args, \\*\\*kwargs)\n",
    "\n",
    "TODO"
   ]
  },
  {
   "cell_type": "markdown",
   "id": "surface-oxford",
   "metadata": {},
   "source": [
    "---\n",
    "\n",
    "Realizado por Docente: [Alejandro Leyva](https://www.alejandro-leyva.com/)\n",
    "\n",
    "[Mecatrónica 85](https://mecatronica85.com/)\n",
    "\n",
    "[fb/mecatronica85](https://www.facebook.com/mecatronica85)"
   ]
  }
 ],
 "metadata": {
  "kernelspec": {
   "display_name": "Python 3",
   "language": "python",
   "name": "python3"
  },
  "language_info": {
   "codemirror_mode": {
    "name": "ipython",
    "version": 3
   },
   "file_extension": ".py",
   "mimetype": "text/x-python",
   "name": "python",
   "nbconvert_exporter": "python",
   "pygments_lexer": "ipython3",
   "version": "3.7.3"
  }
 },
 "nbformat": 4,
 "nbformat_minor": 5
}
