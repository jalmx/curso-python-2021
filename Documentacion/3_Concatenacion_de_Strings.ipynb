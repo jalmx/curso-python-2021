{
 "cells": [
  {
   "cell_type": "markdown",
   "id": "hawaiian-division",
   "metadata": {},
   "source": [
    "![banner](./logo/banner.png)"
   ]
  },
  {
   "cell_type": "markdown",
   "id": "specified-token",
   "metadata": {},
   "source": [
    "# 3 Concatenación de Strings\n",
    "\n",
    "La concatenación es el poder agrupar, juntar, unir, fusionar, pegar cadenas de caracteres, es decir, \"sumar\" varios string para formar uno solo.\n",
    "\n",
    "La concatenación es realiza con el símbolo del signo más `+`. \n"
   ]
  },
  {
   "cell_type": "markdown",
   "id": "opening-trailer",
   "metadata": {},
   "source": [
    "## 3.1 Concatenando con `+`\n",
    "\n",
    "Tenemos variables tipo `str` en donde guardamos texto.\n",
    "\n",
    "**Ejemplo**"
   ]
  },
  {
   "cell_type": "code",
   "execution_count": 1,
   "id": "capable-dimension",
   "metadata": {},
   "outputs": [
    {
     "name": "stdout",
     "output_type": "stream",
     "text": [
      "Lo mejor del mundoes saber programación\n",
      "Lo mejor del mundoes saber programación\n"
     ]
    }
   ],
   "source": [
    "frase = \"Lo mejor del mundo\"\n",
    "nombre = \"es saber programación\"\n",
    "\n",
    "frase_completa = frase + nombre\n",
    "\n",
    "print(frase + nombre)\n",
    "print(frase_completa)"
   ]
  },
  {
   "cell_type": "markdown",
   "id": "enhanced-olympus",
   "metadata": {},
   "source": [
    "## 3.2 Función `str()`\n",
    "\n",
    "En la concatenación básica solo se pueden concatenar tipos `str`, por lo tanto, si necesitamos hacer un paso previo para que el tipo de dato que no sea `str` se convierta a este tipo. Para ello contamos con función `str()` la cual realiza ese trabajo. \n",
    "\n",
    "La sintaxis es:\n",
    "\n",
    "```python\n",
    "str(object, encoding=encoding, errors=errors)\n",
    "```\n",
    "**Parámetros:**\n",
    "\n",
    "- `object\tCualquier tipo de objeto`\n",
    "- `encoding\tEl encoding del objeto. Por default es UTF-8`\n",
    "- `errors\tEspecifica que si hay un error en el encoding, que debe hacer`\n",
    "- `return: Regresa el dato en tipo str : (str)`"
   ]
  },
  {
   "cell_type": "markdown",
   "id": "defensive-career",
   "metadata": {},
   "source": [
    "Entonces, si tenemos un tipo `int`, `float` o `boolean` primero debemos convertirlos a tipo `str`.\n",
    "\n",
    "**Ejemplo:**\n",
    "\n",
    "```python\n",
    "frase = \"Mi edad es: \"\n",
    "edad = 25\n",
    "edad_str = str(25)\n",
    "\n",
    "print(frase + edad)\n",
    "\n",
    "```"
   ]
  },
  {
   "cell_type": "markdown",
   "id": "familiar-socket",
   "metadata": {},
   "source": [
    "## 3.3 Concatenando otros tipos de datos.\n",
    "\n",
    "Si queremos hacer una concatenación directa entre un tipo `str` y otro tipo de dato, nos saldrá un error de tipo, indicando que no se puede concatenar `str` con alguno otro tipo. \n",
    "Como se muestra a continuación:"
   ]
  },
  {
   "cell_type": "code",
   "execution_count": 3,
   "id": "swedish-latest",
   "metadata": {},
   "outputs": [
    {
     "ename": "TypeError",
     "evalue": "can only concatenate str (not \"int\") to str",
     "output_type": "error",
     "traceback": [
      "\u001b[0;31m---------------------------------------------------------------------------\u001b[0m",
      "\u001b[0;31mTypeError\u001b[0m                                 Traceback (most recent call last)",
      "\u001b[0;32m/tmp/ipykernel_24287/3532323227.py\u001b[0m in \u001b[0;36m<module>\u001b[0;34m\u001b[0m\n\u001b[0;32m----> 1\u001b[0;31m \u001b[0mprint\u001b[0m\u001b[0;34m(\u001b[0m\u001b[0;34m\"Mi edad es: \"\u001b[0m \u001b[0;34m+\u001b[0m \u001b[0;36m25\u001b[0m\u001b[0;34m)\u001b[0m\u001b[0;34m\u001b[0m\u001b[0;34m\u001b[0m\u001b[0m\n\u001b[0m",
      "\u001b[0;31mTypeError\u001b[0m: can only concatenate str (not \"int\") to str"
     ]
    }
   ],
   "source": [
    "print(\"Mi edad es: \" + 25)"
   ]
  },
  {
   "cell_type": "markdown",
   "id": "related-gates",
   "metadata": {},
   "source": [
    "Por lo tanto, debemos hacer esa conversión previa a la concatenación. \n",
    "Existen dos formas, tomamos el valor, realizamos la conversión y se guarda en otra variable o la forma directa.\n",
    "\n",
    "**Ejemplo:**"
   ]
  },
  {
   "cell_type": "code",
   "execution_count": 4,
   "id": "surrounded-designation",
   "metadata": {},
   "outputs": [
    {
     "name": "stdout",
     "output_type": "stream",
     "text": [
      "Mi edad es: 25\n",
      "Mi edad es: 25\n"
     ]
    }
   ],
   "source": [
    "#Por partes\n",
    "frase = \"Mi edad es: \"\n",
    "edad = 25\n",
    "edad_str = str(25)\n",
    "\n",
    "print(frase + edad_str)\n",
    "print(\"Mi edad es: \" + edad_str)"
   ]
  },
  {
   "cell_type": "markdown",
   "id": "confirmed-montreal",
   "metadata": {},
   "source": [
    "*Vamos a realizar una combinación básica entre los tipos de datos básicos*\n"
   ]
  },
  {
   "cell_type": "code",
   "execution_count": 5,
   "id": "soviet-still",
   "metadata": {},
   "outputs": [
    {
     "name": "stdout",
     "output_type": "stream",
     "text": [
      "Mi nombre es Alejandro, mi edad es de 25 anios,tengo una altura de 1.68 mi estado de casado es: False\n",
      "Mi nombre es Alejandro, mi edad es de 25 anios,tengo una altura de 1.68 mi estado de casado es: False\n"
     ]
    }
   ],
   "source": [
    "# Declaro las variables\n",
    "edad = 25\n",
    "altura = 1.68\n",
    "nombre = \"Alejandro\"\n",
    "casado = False\n",
    "\n",
    "#Las convierto a tipo str\n",
    "\n",
    "edad_str = str(edad)\n",
    "altura_str = str(altura)\n",
    "casado_str = str(casado)\n",
    "\n",
    "print(\"Mi nombre es \" + nombre + \", mi edad es de \" + edad_str + \" anios,\" + \"tengo una altura de \" + \n",
    "      altura_str + \" mi estado de casado es: \" + casado_str ) \n",
    "\n",
    "print(\"Mi nombre es \" + nombre + \", mi edad es de \" + str(edad) + \" anios,\" + \"tengo una altura de \" + \n",
    "      str(altura) + \" mi estado de casado es: \" + str(casado))\n"
   ]
  },
  {
   "cell_type": "markdown",
   "id": "mysterious-cookie",
   "metadata": {},
   "source": [
    "## 3.4 Secuencias de espace\n",
    "\n",
    "Las secuencias de espace son caracteres especiales para darle formato a las cadenas de texto (Strings).\n",
    "\n",
    "Nombre|Simbolo|Secuencia de escape\n",
    ":-|:-:|:-:\n",
    "Backslash|\\\\| `\\\\`\n",
    "Comilla simple|\\'|`\\'`\n",
    "Comilla doble|\\\"|`\\\"`\n",
    "Bell|(sonido)|`\\a`\n",
    "Retroceso||`\\b`\n",
    "Nueva línea|(enter)|`\\n`\n",
    "Carriage return|\\r|`\\r`\n",
    "Tab horizontal|tab|`\\t`\n",
    "Tab vertical|tab vertical|`\\v`"
   ]
  },
  {
   "cell_type": "markdown",
   "id": "stopped-presentation",
   "metadata": {},
   "source": [
    "#### Salto de línea `\\n`\n",
    "\n",
    "Cuando queremos que el texto tenga un salto de línea (enter), tenemos la secuencia `\\n`."
   ]
  },
  {
   "cell_type": "code",
   "execution_count": 8,
   "id": "egyptian-brave",
   "metadata": {
    "scrolled": true
   },
   "outputs": [
    {
     "name": "stdout",
     "output_type": "stream",
     "text": [
      "Hola \n",
      " Texto en siguiente linea\n",
      "la siguiente linea\n"
     ]
    }
   ],
   "source": [
    "mensaje = \"Hola\\nTexto en siguiente linea\\nla siguiente linea\"\n",
    "\n",
    "print(mensaje )"
   ]
  },
  {
   "cell_type": "markdown",
   "id": "systematic-password",
   "metadata": {},
   "source": [
    "#### Tabulación \n",
    "\n",
    "En ocasiones queremos tabular (sangría) nuestro texto para darle un acomodo se aplica `\\t`"
   ]
  },
  {
   "cell_type": "code",
   "execution_count": 9,
   "id": "worth-lease",
   "metadata": {},
   "outputs": [
    {
     "name": "stdout",
     "output_type": "stream",
     "text": [
      "Columa 1\tColumna2\tColumna 3\n",
      "Columa 1\tColumna2\tColumna 3\n"
     ]
    }
   ],
   "source": [
    "mensaje = \"Columa 1\\tColumna2\\tColumna 3\\nColuma 1\\tColumna2\\tColumna 3\"\n",
    "print(mensaje)"
   ]
  },
  {
   "cell_type": "markdown",
   "id": "disciplinary-preserve",
   "metadata": {},
   "source": [
    "#### Comillas\n",
    "\n",
    "En python nos da una ventaja con respecto al uso de comillas simples y dobles por default.\n",
    "Recordando que se pueden escribir Strings `str` con `\"` y `'`. Pero vamos a ver la diferencia si queremos utilizar las comillas ya sean simple o doble dentro del mensaje que queremos transmitir; al igual la equivalencia de las secuencias de escape `\\'` y `\\\"`."
   ]
  },
  {
   "cell_type": "code",
   "execution_count": 10,
   "id": "invalid-estate",
   "metadata": {},
   "outputs": [
    {
     "name": "stdout",
     "output_type": "stream",
     "text": [
      "hola 'este texto esta en comilla simple' , texto fuera de la comilla\n",
      "hola 'este texto esta en comilla simple' , texto fuera de la comilla \n"
     ]
    }
   ],
   "source": [
    "# Si que queremos usar las comillas simples en un string sin utilizar la secuencia de escape, debemos usar \n",
    "# la comilla doble para generar dicho string\n",
    "\n",
    "mensajeDobleComilla = \"hola 'este texto esta en comilla simple' , texto fuera de la comilla\"\n",
    "mensajeComillaSimple = 'hola \\'este texto esta en comilla simple\\' , texto fuera de la comilla '\n",
    "\n",
    "print(mensajeDobleComilla)\n",
    "print(mensajeComillaSimple)"
   ]
  },
  {
   "cell_type": "code",
   "execution_count": 12,
   "id": "julian-receiver",
   "metadata": {},
   "outputs": [
    {
     "name": "stdout",
     "output_type": "stream",
     "text": [
      "hola \"este texto esta en comilla simple\", texto fuera de la comilla\n",
      "hola \"este texto esta en doble comilla\" texto fuera de la comilla \n"
     ]
    }
   ],
   "source": [
    "# Si que queremos usar doble comilla en un string sin utilizar la secuencia de escape, debemos usar \n",
    "# la comilla simple para generar dicho string\n",
    "\n",
    "mensajeComillaSimple = 'hola \"este texto esta en doble comilla\" texto fuera de la comilla '\n",
    "mensajeDobleComilla = \"hola \\\"este texto esta en comilla simple\\\", texto fuera de la comilla\"\n",
    "\n",
    "print(mensajeDobleComilla)\n",
    "print(mensajeComillaSimple)"
   ]
  },
  {
   "cell_type": "markdown",
   "id": "representative-bathroom",
   "metadata": {},
   "source": [
    "#### Back Slash\n",
    "\n",
    "En ocasiones necesitamos utilizar la diagonal (slash) en un texto, para esto existe la secuencia de escape slasj doble `\\\\`."
   ]
  },
  {
   "cell_type": "code",
   "execution_count": 13,
   "id": "according-certificate",
   "metadata": {},
   "outputs": [
    {
     "name": "stdout",
     "output_type": "stream",
     "text": [
      "ruta\\carperta1\\carperta2\\archivo\n"
     ]
    }
   ],
   "source": [
    "# Utilizando slash en un texto, por ejemplo para rutas dentro de un string\n",
    "\n",
    "mensaje = 'ruta\\\\carperta1\\\\carperta2\\\\archivo'\n",
    "\n",
    "print(mensaje)"
   ]
  },
  {
   "cell_type": "markdown",
   "id": "northern-contemporary",
   "metadata": {},
   "source": [
    "## 3.5 Formateo de Strings - funcion `format()`\n",
    "\n",
    "Los `str` tienen una propiedad llamada `format()` con la cual podemos concatenar variables, se tienen en varias formas para realizar la concatenacion con este metodo. Retorna el `str` con el formato indicado. Las variables se colocaran automaticamente en la llaves.\n",
    "\n",
    "**Sintaxis:**\n",
    "\n",
    "```python\n",
    "'string {} ... {} ... '.format(variable1, variable2,...)\n",
    "\n",
    "'string {0} ... {1} ... '.format(variable1, variable2,...)\n",
    "\n",
    "'string {variable1} ... {variable2} ... '.format(variable1 =\"hola\", variable2=5,...)\n",
    "```"
   ]
  },
  {
   "cell_type": "code",
   "execution_count": 1,
   "id": "handled-wagon",
   "metadata": {},
   "outputs": [
    {
     "name": "stdout",
     "output_type": "stream",
     "text": [
      "Mi nombre es Alejandro y tengo 30 anios de edad\n"
     ]
    }
   ],
   "source": [
    "# La forma que es por default sin indicar nada, en el orden que los pasamos, seran asignados\n",
    "nombre = \"Alejandro\"\n",
    "edad = 30\n",
    "\n",
    "texto_default = \"Mi nombre es {} y tengo {} anios de edad\".format(nombre, edad)\n",
    "\n",
    "print(texto_default)"
   ]
  },
  {
   "cell_type": "code",
   "execution_count": 2,
   "id": "natural-mustang",
   "metadata": {},
   "outputs": [
    {
     "name": "stdout",
     "output_type": "stream",
     "text": [
      "El numero '3' corresponde al color 'Rojo'\n"
     ]
    }
   ],
   "source": [
    "# Formato indicando la varible en las llaves, esto sirve para cambiar el orden\n",
    "\n",
    "color = \"Rojo\"\n",
    "numero = 3\n",
    "\n",
    "texto = \"El numero '{1}' corresponde al color '{0}'\".format(color, numero)\n",
    "\n",
    "print(texto)"
   ]
  },
  {
   "cell_type": "code",
   "execution_count": 5,
   "id": "relevant-offering",
   "metadata": {},
   "outputs": [
    {
     "name": "stdout",
     "output_type": "stream",
     "text": [
      "Mi nombre es Alejandro tengo 25 anios\n"
     ]
    }
   ],
   "source": [
    "# Indicando el nombre de la variable \n",
    "\n",
    "texto_variables = \"Mi nombre es {nombre} tengo {edad} anios\".format(nombre=\"Alejandro\", edad=25)\n",
    "\n",
    "print(texto_variables)"
   ]
  },
  {
   "cell_type": "markdown",
   "id": "endangered-panic",
   "metadata": {},
   "source": [
    "#### 3.5.1 Formato para numeros y la precision\n",
    "\n",
    "En muchas ocasiones queremos imprimir un valor numerico pero con cierta cantidad decimales, con la funcion `format()` nos da un formato para especificar como queremos la salida.\n",
    "\n",
    "Debemos marcar una sintaxis especial que sigue el siguiente formato, principalmente es para valores flotantes:\n",
    "\n",
    "**Sintaxis:**\n",
    "\n",
    "```\n",
    "[index]:[width][.precision][type]\n",
    "```\n",
    "\n",
    "**Tipos:**\n",
    "\n",
    "- `d` para enteros\n",
    "- `f` para flotantes\n",
    "- `b` para numeros binarios\n",
    "- `o` para numeros octal\n",
    "- `x` para numeros hexadecimal\n",
    "- `s` para strings\n",
    "- `e` para flotante en formato exponente \n",
    "\n",
    "**Aplicado:**\n",
    "\n",
    "```python\n",
    "\n",
    "\"El precio es {0:1.2f}\".format(25.365894) #es la primera posicion [0]\n",
    "\n",
    "```\n"
   ]
  },
  {
   "cell_type": "code",
   "execution_count": 15,
   "id": "meaningful-absolute",
   "metadata": {},
   "outputs": [
    {
     "name": "stdout",
     "output_type": "stream",
     "text": [
      "El precio es 561.27\n",
      "La calificacion final es 8.37 de 3 parciales\n"
     ]
    }
   ],
   "source": [
    "#es la primera posicion [0], parte entera como minimo un valor, con 2 decimales y tomarlo como tipo flotante\n",
    "numero = 561.265264161\n",
    "valor1 = \"El precio es {0:1.2f}\".format(numero)\n",
    "\n",
    "# los valores enteros no es necesario indicar la parte decimal, solo se indica la posicion\n",
    "valor2 = \"La calificacion final es {0:.2f} de {1} parciales\".format(8.369,3)\n",
    "\n",
    "print(valor1)\n",
    "print(valor2)"
   ]
  },
  {
   "cell_type": "code",
   "execution_count": null,
   "id": "signed-interaction",
   "metadata": {},
   "outputs": [],
   "source": [
    "valor1 = float(input('Dar valor 1: '))\n",
    "valor2 = float(input('Dar valor 2: '))\n",
    "\n",
    "suma = valor1 + valor2\n",
    "\n",
    "print('El resultado es {0:1.3f}'.format(suma))"
   ]
  },
  {
   "cell_type": "code",
   "execution_count": null,
   "id": "bearing-defensive",
   "metadata": {
    "scrolled": true
   },
   "outputs": [],
   "source": [
    "# Dar formato con decimales de forma dinamica\n",
    "valor = float(input('Dar un valor para redondear: '))\n",
    "redondeo = int(input('A cuantos decimales?: '))\n",
    "\n",
    "r = '0:1.{}f'.format(redondeo)\n",
    "msg = 'El valor redondeado a {1} decimales es: {' + r + '}'\n",
    "\n",
    "print(msg)\n",
    "print(msg.format(valor, redondeo))"
   ]
  },
  {
   "cell_type": "code",
   "execution_count": null,
   "id": "organic-valve",
   "metadata": {},
   "outputs": [],
   "source": [
    "nombre = \"Alejandro\"\n",
    "\n",
    "print(\"Mi nombre es {0:s}\".format(nombre))"
   ]
  },
  {
   "cell_type": "markdown",
   "id": "former-remains",
   "metadata": {},
   "source": [
    "## 3.6 `f'String'`\n",
    "\n",
    "Actualmente se tiene una nueva forma para crear strings de forma mas sencilla y dar formato.\n",
    "\n",
    "**Esta es la forma mas actual que se usa.**\n",
    "\n",
    "**Sintaxis:**\n",
    "\n",
    "```python\n",
    "cantidad = 5\n",
    "color = \"verde\"\n",
    "\n",
    "f'El numero de autos es {cantidad} y todos son color {color}'\n",
    "f\"El numero de autos es {cantidad} y todos son color {color}\"\n",
    "```"
   ]
  },
  {
   "cell_type": "code",
   "execution_count": 18,
   "id": "conscious-partition",
   "metadata": {},
   "outputs": [
    {
     "name": "stdout",
     "output_type": "stream",
     "text": [
      "El numero de autos es 5 y todos son color tutifruti\n",
      "El numero de autos es \"5\" y todos son color \"tutifruti\"\n"
     ]
    }
   ],
   "source": [
    "cantidad = 5\n",
    "color = \"tutifruti\"\n",
    "\n",
    "mensaje1 = f'El numero de autos es {cantidad} y todos son color {color}'\n",
    "mensaje2 = f\"El numero de autos es \\\"{cantidad}\\\" y todos son color \\\"{color}\\\"\"\n",
    "\n",
    "print(mensaje1)\n",
    "print(mensaje2)"
   ]
  },
  {
   "cell_type": "markdown",
   "id": "loose-ceremony",
   "metadata": {},
   "source": [
    "#### 3.6.1 Formato a numeros con `f'string'`\n",
    "\n",
    "**Sintaxis:**\n",
    "\n",
    "```\n",
    "{variable:{width}.{decimal-1}}\n",
    "```\n",
    "\n",
    "**Aplicacion:**\n",
    "\n",
    "```python\n",
    "num = 3.141592\n",
    "\n",
    "print(f\"El valor de pi es: {num:{1}.{3}}\")\n",
    "```"
   ]
  },
  {
   "cell_type": "code",
   "execution_count": 20,
   "id": "found-intervention",
   "metadata": {},
   "outputs": [
    {
     "name": "stdout",
     "output_type": "stream",
     "text": [
      "El valor de pi es: 3.14\n"
     ]
    }
   ],
   "source": [
    "# Es similar a la funcion format(), con respecto a la sintaxis, no es necesario indicar la posicion de la variable\n",
    "# los decimales es el valor menos 1\n",
    "\n",
    "num = 3.14159\n",
    "texto_formateado = f\"El valor de pi es: {num:{1}.{3}}\" # queremos 2 decimales\n",
    "print(texto_formateado)"
   ]
  },
  {
   "cell_type": "markdown",
   "id": "prompt-stranger",
   "metadata": {},
   "source": [
    "---\n",
    "Realizado por Docente: [Alejandro Leyva](https://www.alejandro-leyva.com/)"
   ]
  }
 ],
 "metadata": {
  "kernelspec": {
   "display_name": "Python 3",
   "language": "python",
   "name": "python3"
  },
  "language_info": {
   "codemirror_mode": {
    "name": "ipython",
    "version": 3
   },
   "file_extension": ".py",
   "mimetype": "text/x-python",
   "name": "python",
   "nbconvert_exporter": "python",
   "pygments_lexer": "ipython3",
   "version": "3.7.3"
  },
  "widgets": {
   "application/vnd.jupyter.widget-state+json": {
    "state": {},
    "version_major": 2,
    "version_minor": 0
   }
  }
 },
 "nbformat": 4,
 "nbformat_minor": 5
}
