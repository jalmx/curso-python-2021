{
 "cells": [
  {
   "cell_type": "markdown",
   "id": "special-performance",
   "metadata": {},
   "source": [
    "![banner](../logo/banner.png)"
   ]
  },
  {
   "cell_type": "markdown",
   "id": "wicked-hampshire",
   "metadata": {},
   "source": [
    "# 2.7 Operadores lógicos\n",
    "\n",
    "Contamos con los operadores lógicos básicos, `AND`, `OR` y `NOT`. Los operadores lógicos toman el objeto como booleanos para realizar la comparación.\n",
    "\n",
    "Estos operadores nos ayudan a realizar operaciones más complejas en las decisiones y ciclos.\n",
    "\n",
    "Todo objeto con algun contenido será tomado como `True`, a menos que:\n",
    "\n",
    "- El objetos esté vacío, como `[]`, `()`, `{}`\n",
    "- El objeto es `False`\n",
    "- El objeto es `0`\n",
    "- El objeto es `None`\n",
    "- El objeto es cadena vacia `\"\"` o `''`\n",
    "\n",
    "En todos estos casos, se toman como `False`."
   ]
  },
  {
   "cell_type": "markdown",
   "id": "featured-texture",
   "metadata": {},
   "source": [
    "## 2.7.1 Operador `AND`\n",
    "\n",
    "Con este operador se analizan dos comparaciones y `si ambas son verdaderas`, nos entrega un resultado `True`. La palabra reservada usada en python es `and`.\n",
    "\n",
    "Tabla de verdad para el operador `and`\n",
    "\n",
    "A|B|Resultado\n",
    ":-:|:-:|:-:\n",
    "False|False|False\n",
    "False|True|False\n",
    "True|False|False\n",
    "True|True|True\n",
    "\n",
    "La forma de aplicación:\n",
    "\n",
    "Ejemplo|Analizando resultado |Resultado\n",
    ":-|:-:|:-:\n",
    "6 < 10 `and` 3 > 0 |True `and` True|True\n",
    "40 < 10 `and` 13 > 5 |False `and` True|False\n",
    "9 < 12 `and` 4 > 8 |True `and` False|False\n",
    "6 > 10 `and` 3 < 0 |False `and` False|False"
   ]
  },
  {
   "cell_type": "markdown",
   "id": "seven-royalty",
   "metadata": {},
   "source": [
    "### 2.7.1.1 Ejemplo con operador lógico `and`"
   ]
  },
  {
   "cell_type": "code",
   "execution_count": 1,
   "id": "compound-belief",
   "metadata": {},
   "outputs": [
    {
     "name": "stdout",
     "output_type": "stream",
     "text": [
      "A y B son mayores que 0\n",
      "Al menos un numero no es mayor a 0\n"
     ]
    }
   ],
   "source": [
    "a = 10\n",
    "b = 10\n",
    "c = -10\n",
    "\n",
    "if a > 0 and b > 0: \n",
    "    print(\"A y B son mayores que 0\") \n",
    "\n",
    "if a > 0 and b > 0 and c > 0: \n",
    "    print(\"Todos los numeros son diferentes de 0\") \n",
    "else: \n",
    "    print(\"Al menos un numero no es mayor a 0\") \n"
   ]
  },
  {
   "cell_type": "code",
   "execution_count": 7,
   "id": "likely-tuesday",
   "metadata": {},
   "outputs": [
    {
     "name": "stdout",
     "output_type": "stream",
     "text": [
      "Al menos un valor es False\n"
     ]
    }
   ],
   "source": [
    "# Aquí se comparan numeros, todos daran True, menos los que tenga el valor de 0\n",
    "a = 10 # True\n",
    "b = -12 # True\n",
    "c = 0 # False\n",
    "  \n",
    "if a and b and e: \n",
    "    print(\"Todos los numeros se toman como True\") \n",
    "else: \n",
    "    print(\"Al menos un valor es False\") "
   ]
  },
  {
   "cell_type": "markdown",
   "id": "understanding-tampa",
   "metadata": {},
   "source": [
    "## 2.7.2 Operador `OR`\n",
    "\n",
    "Con este operador se analizan dos comparaciones y si alguna es verdadera, nos entrega un resultado `True`. La palabra reservada usada en python es `or`.\n",
    "\n",
    "Tabla de verdad para el operador `or`\n",
    "\n",
    "A|B|Resultado\n",
    ":-:|:-:|:-:\n",
    "False|False|False\n",
    "False|True|True\n",
    "True|False|True\n",
    "True|True|True\n",
    "\n",
    "La forma de aplicación:\n",
    "\n",
    "Ejemplo|Analizando resultado |Resultado\n",
    ":-|:-:|:-:\n",
    "6 < 10 `or` 3 > 0 |True `or` True|True\n",
    "40 < 10 `or` 13 > 5 |False `or` True|True\n",
    "9 < 12 `or` 4 > 8 |True `or` False|True\n",
    "6 > 10 `or` 3 < 0 |False `or` False|False"
   ]
  },
  {
   "cell_type": "markdown",
   "id": "smooth-miami",
   "metadata": {},
   "source": [
    "### 2.7.2.1 Ejemplo con operador lógico `or`"
   ]
  },
  {
   "cell_type": "code",
   "execution_count": 8,
   "id": "administrative-pledge",
   "metadata": {},
   "outputs": [
    {
     "name": "stdout",
     "output_type": "stream",
     "text": [
      "A o B es mayor que 0\n",
      "B y C NO no son mayores que 0\n"
     ]
    }
   ],
   "source": [
    "a = 10\n",
    "b = -10\n",
    "c = 0\n",
    "  \n",
    "if a > 0 or b > 0: \n",
    "    print(\"A o B es mayor que 0\") \n",
    "else: \n",
    "    print(\"A y B no son mayores a 0\") \n",
    "\n",
    "if b > 0 or c > 0: \n",
    "    print(\"B o C es mayor que 0\") \n",
    "else: \n",
    "    print(\"B y C NO no son mayores que 0\") "
   ]
  },
  {
   "cell_type": "code",
   "execution_count": 10,
   "id": "pursuant-carol",
   "metadata": {},
   "outputs": [
    {
     "name": "stdout",
     "output_type": "stream",
     "text": [
      "Al menos un valor se considera True\n"
     ]
    }
   ],
   "source": [
    "a = 10\n",
    "b = 12\n",
    "c = 0\n",
    "  \n",
    "if a or b or c: \n",
    "    print(\"Al menos un valor se considera True\") \n",
    "else: \n",
    "    print(\"Todos los valores dan como resultado False\") "
   ]
  },
  {
   "cell_type": "markdown",
   "id": "external-scotland",
   "metadata": {},
   "source": [
    "## 2.7.3 Operador `not`\n",
    "\n",
    "Este operador invierte el resultado booleana que recibe. La palabra reservada es `not`\n",
    "\n",
    "Tabla de verdad para el operador `not`\n",
    "\n",
    "A|Resultado\n",
    ":-:|:-:\n",
    "False|True\n",
    "True|False\n",
    "\n",
    "La forma de aplicación:\n",
    "\n",
    "Ejemplo|Analizando resultado |Resultado\n",
    ":-|:-:|:-:\n",
    "`not`(6 < 10) |`not`(True)|False\n",
    "`not`(20 < 12) |`not`(False)|True\n",
    "`not`(2 < 10) |`not`(True)|False\n",
    "`not`(False)|`not`(False)|True"
   ]
  },
  {
   "cell_type": "markdown",
   "id": "excessive-titanium",
   "metadata": {},
   "source": [
    "### 2.7.3.1 Ejemplo con operador lógico `not`"
   ]
  },
  {
   "cell_type": "code",
   "execution_count": 10,
   "id": "objective-bryan",
   "metadata": {},
   "outputs": [
    {
     "name": "stdout",
     "output_type": "stream",
     "text": [
      "1\n",
      "0\n",
      "10 es divisible entre 3 or 5\n"
     ]
    }
   ],
   "source": [
    "a = 10\n",
    "  \n",
    "if not a: #Invierto el valor booleano que da 10\n",
    "    print(\"El valor booleane es True\") \n",
    "    \n",
    "residuo_3 = a%3\n",
    "residuo_5 = a%5\n",
    "\n",
    "print(residuo_3)\n",
    "print(residuo_5)\n",
    "\n",
    "if not ( residuo_3 == 0 or residuo_5 == 0): \n",
    "    print(\"10 no es divisible entre 3 o 5\") \n",
    "else: \n",
    "    print(\"10 es divisible entre 3 or 5\") "
   ]
  },
  {
   "cell_type": "markdown",
   "id": "surface-oxford",
   "metadata": {},
   "source": [
    "---\n",
    "Realizado por Docente: [Alejandro Leyva](https://www.alejandro-leyva.com/)\n",
    "\n",
    "[Mecatrónica 85](https://mecatronica85.com/)\n",
    "\n",
    "[fb/mecatronica85](https://www.facebook.com/mecatronica85)"
   ]
  }
 ],
 "metadata": {
  "kernelspec": {
   "display_name": "Python 3",
   "language": "python",
   "name": "python3"
  },
  "language_info": {
   "codemirror_mode": {
    "name": "ipython",
    "version": 3
   },
   "file_extension": ".py",
   "mimetype": "text/x-python",
   "name": "python",
   "nbconvert_exporter": "python",
   "pygments_lexer": "ipython3",
   "version": "3.7.3"
  }
 },
 "nbformat": 4,
 "nbformat_minor": 5
}
