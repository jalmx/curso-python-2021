{
 "cells": [
  {
   "cell_type": "markdown",
   "id": "special-performance",
   "metadata": {},
   "source": [
    "![banner](../logo/banner.png)"
   ]
  },
  {
   "cell_type": "markdown",
   "id": "wicked-hampshire",
   "metadata": {},
   "source": [
    "# 2.10 Colecciones\n",
    "\n",
    "Dentro de los lenguajes de programación hay tipos datos que son estructuras que pueden contener más de un dato, a comparación de los tipos de datos básicos, estas estructuras pueden contener muchos de esos datos básicos en su interior. Podrías decir que es una base de datos, pero esta solo existe mientras está la aplicación en ejecución, los datos son temporales. Las colecciones pueden contener cualquier tipo de dato, incluso mas colecciones.\n",
    "\n",
    "En python son los siguientes:\n",
    "\n",
    "- `Tuplas` Tipo de dato Inmutable\n",
    "- `Listas (arrays)` Tipo de Mutable\n",
    "- `Diccionarios`\n",
    "- `Sets`\n",
    "\n",
    "*Nota: En este curso solo se cubriran las tuplas y las listas.*"
   ]
  },
  {
   "cell_type": "markdown",
   "id": "featured-texture",
   "metadata": {},
   "source": [
    "## 2.10.1 Tuplas\n",
    "\n"
   ]
  },
  {
   "cell_type": "markdown",
   "id": "understanding-tampa",
   "metadata": {},
   "source": [
    "Es una estructura de datos **inmutables**, una vez declarada no puede cambiar su contenido, ni agregar, ni eliminar, no modificar. \n",
    "\n",
    "Cada posicion de los datos tiene un **indice** (index), el cual me ayuda a acceder a el. *La primera posicion siempre es 0*.\n",
    "\n",
    "**La convencion de como declarar o nombrar a una lista o tupla es en plural**\n",
    "\n",
    "Parametros a destacar:\n",
    "\n",
    "- index: Indice\n",
    "- len: Longitud\n",
    "\n",
    "**Sintaxis:**\n",
    "\n",
    "```python\n",
    "nombre_tupla = (dato1, dato2, ..., datoN)\n",
    "\n",
    "```"
   ]
  },
  {
   "cell_type": "code",
   "execution_count": null,
   "id": "modified-primary",
   "metadata": {},
   "outputs": [],
   "source": [
    "# Declaracion de una tupla\n",
    "\n",
    "# Tiene 3 posiciones, comenzado en el 0. Largo de 3\n",
    "\n",
    "calificaciones = (8,7,9) \n",
    "\n",
    "print(calificaciones)\n",
    "\n",
    "print( type(calificaciones) ) \n",
    "\n"
   ]
  },
  {
   "cell_type": "code",
   "execution_count": null,
   "id": "ordinary-pickup",
   "metadata": {},
   "outputs": [],
   "source": [
    "# vamos a acceder a cada dato\n",
    "\n",
    "calificacion1 = calificaciones[0]\n",
    "calificacion2 = calificaciones[1]\n",
    "calificacion3 = calificaciones[2]\n",
    "\n",
    "print(calificacion1)\n",
    "print(calificacion2)\n",
    "print(calificacion3)"
   ]
  },
  {
   "cell_type": "code",
   "execution_count": null,
   "id": "express-external",
   "metadata": {},
   "outputs": [],
   "source": [
    "# Recorriendo tuplas con for y while\n",
    "\n",
    "for calificacion in calificaciones:\n",
    "    print(calificacion)\n",
    "    \n",
    "print('-------------------------')\n",
    "\n",
    "contador = 0\n",
    "\n",
    "while contador < len(calificaciones):\n",
    "    calificacion = calificaciones[contador]\n",
    "    print(calificacion)\n",
    "    contador += 1"
   ]
  },
  {
   "cell_type": "markdown",
   "id": "spare-tongue",
   "metadata": {},
   "source": [
    "## 2.10.2 Listas\n",
    "\n",
    "Es una coleccion de elementos ordenados. En otro lenguajes es conocido como un `array`. A este tipo de coleccion es Mutable, es decir, se le pueden agregar, eliminar, quitar, elementos. Podemos hacer diversas operaciones con ellos.\n",
    "\n",
    "Elementos que debemos tener en cuenta son:\n",
    "\n",
    "- `index`: El indice o posicion de cada elemento en la lista, recordar que todas comienzan en la posicion 0.\n",
    "- `length`: La longitud o cantidad de elementos que contiene la lista\n",
    "\n",
    "**Sintaxis**\n",
    "\n",
    "```python\n",
    "nombre_lista = [elemento1, elemento2, elemento3,.. , elementoN]\n",
    "```"
   ]
  },
  {
   "cell_type": "markdown",
   "id": "occasional-utilization",
   "metadata": {},
   "source": [
    "### Como se deben nombrar las listas (buena practica o convension)\n",
    "\n",
    "- El nombre de la varable que contanga una lista, debe ser en **plural**\n",
    "- Puede contener la palabra **\\*\\*_list\\*\\*** o **\\*\\*_list\\*\\***\n"
   ]
  },
  {
   "cell_type": "markdown",
   "id": "lucky-pacific",
   "metadata": {},
   "source": [
    "### 2.10.2.1 Funciones de las listas\n",
    "\n",
    "Las lista son un objeto, por lo tanto cuenta con diversos metodos los cuales nos ayudan a interactuar con ellos:\n",
    "\n",
    "- `append(element)`:\tAdds an element at the end of the list\n",
    "- `clear()`:\tRemoves all the elements from the list\n",
    "- `copy()`:\tReturns a copy of the list\n",
    "- `count(element)`:\tReturns the number of elements with the specified value\n",
    "- `extend(list)`:\tAdd the elements of a list (or any iterable), to the end of the current list\n",
    "- `index(element[,start[,end]])`:\tReturns the index of the first element with the specified value\n",
    "- `insert(<position, element)`:\tAdds an element at the specified position\n",
    "- `pop([index])`:\tRemoves the element at the specified position\n",
    "- `remove(element)`:\tRemoves the first item with the specified value\n",
    "- `reverse()`:\tReverses the order of the list\n",
    "- `sort()`:\tSorts the list"
   ]
  },
  {
   "cell_type": "code",
   "execution_count": 2,
   "id": "british-textbook",
   "metadata": {},
   "outputs": [
    {
     "name": "stdout",
     "output_type": "stream",
     "text": [
      "['analogicas', 'digitales', 'mediciones']\n",
      "['analogicas', 'digitales', 'mediciones', 'dibujo 3D']\n",
      "['analogicas', 'digitales', 'mediciones', 'dibujo 3D', 'neumatica', 'mecanismos']\n",
      "['analogicas', 'digitales', 'Matematicas', 'mediciones', 'dibujo 3D', 'neumatica', 'mecanismos']\n",
      "['analogicas', 'digitales', 'mediciones', 'dibujo 3D', 'neumatica', 'mecanismos']\n",
      "['analogicas', 'dibujo 3D', 'digitales', 'mecanismos', 'mediciones', 'neumatica']\n",
      "['analogicas', 'dibujo 3D', 'digitales', 'mecanismos', 'mediciones']\n",
      "ultima materia: neumatica\n",
      "['mediciones', 'mecanismos', 'digitales', 'dibujo 3D', 'analogicas']\n"
     ]
    }
   ],
   "source": [
    "# Declaro una lista con unas materias\n",
    "materias = ['analogicas', 'digitales', 'mediciones'] # lista de str\n",
    "\n",
    "print(materias)\n",
    "\n",
    "#agregamos una materia mas a la lista\n",
    "materias.append('dibujo 3D')\n",
    "\n",
    "#imprimo la lista\n",
    "print(materias)\n",
    "\n",
    "#creo otra lista\n",
    "materias2 = ['neumatica', 'mecanismos']\n",
    "\n",
    "# Extendemos la primer lista con la segunda\n",
    "materias.extend(materias2)\n",
    "\n",
    "#imprimo la lista\n",
    "print(materias)\n",
    "\n",
    "#inserto una materia en la posicion 2\n",
    "materias.insert(2,'Matematicas')\n",
    "\n",
    "#imprimo la lista\n",
    "print(materias)\n",
    "\n",
    "#removemos el elemento 'Matematicas'\n",
    "materias.remove(\"Matematicas\")\n",
    "\n",
    "#imprimo la lista\n",
    "print(materias)\n",
    "\n",
    "# Ordenamos las lista\n",
    "materias.sort()\n",
    "\n",
    "#imprimo la lista\n",
    "print(materias)\n",
    "\n",
    "# sacamos un elemento de la lista, si no se especifica saca al ultimo\n",
    "ultima_materia = materias.pop()\n",
    "\n",
    "#imprimo la lista\n",
    "print(materias)\n",
    "\n",
    "print('ultima materia:', ultima_materia)\n",
    "\n",
    "# Invierto el orden de la lista\n",
    "materias.reverse()\n",
    "\n",
    "#imprimo la lista\n",
    "print(materias)"
   ]
  },
  {
   "cell_type": "markdown",
   "id": "proprietary-stick",
   "metadata": {},
   "source": [
    "### Obteniendo los datos de una lista\n",
    "\n",
    "**Sintaxis**\n",
    "\n",
    "```python\n",
    "   \n",
    "    variable = nombre_lista [ posicion ]\n",
    "\n",
    "```"
   ]
  },
  {
   "cell_type": "code",
   "execution_count": 12,
   "id": "enhanced-green",
   "metadata": {},
   "outputs": [
    {
     "name": "stdout",
     "output_type": "stream",
     "text": [
      "mediciones\n",
      "mecanismos\n",
      "digitales\n",
      "dibujo 3D\n"
     ]
    }
   ],
   "source": [
    "#Acceso a los datos de la lista\n",
    "\n",
    "materia1 = materias[0]\n",
    "materia2 = materias[1]\n",
    "materia3 = materias[2]\n",
    "materia4 = materias[3]\n",
    "\n",
    "print(materia1)\n",
    "print(materia2)\n",
    "print(materia3)\n",
    "print(materia4)"
   ]
  },
  {
   "cell_type": "code",
   "execution_count": 6,
   "id": "generous-season",
   "metadata": {},
   "outputs": [
    {
     "name": "stdout",
     "output_type": "stream",
     "text": [
      "La materia es:  mediciones\n",
      "La materia es:  mecanismos\n",
      "La materia es:  digitales\n",
      "La materia es:  dibujo 3D\n",
      "La materia es:  analogicas\n",
      "*********************\n",
      "La materia es:  mediciones\n",
      "La materia es:  mecanismos\n",
      "La materia es:  digitales\n",
      "La materia es:  dibujo 3D\n",
      "La materia es:  analogicas\n"
     ]
    }
   ],
   "source": [
    "# Recorriendo una lista con FOR\n",
    "\n",
    "for materia in materias:\n",
    "    print('La materia es: ', materia)\n",
    "\n",
    "print('*********************')\n",
    "\n",
    "# Recorriendo una lista con WHILE\n",
    "\n",
    "count = 0\n",
    "\n",
    "while count < len(materias):\n",
    "    materia = materias[count]\n",
    "    print('La materia es: ',materia)\n",
    "    count +=1\n"
   ]
  },
  {
   "cell_type": "code",
   "execution_count": 42,
   "id": "cleared-keeping",
   "metadata": {},
   "outputs": [
    {
     "name": "stdout",
     "output_type": "stream",
     "text": [
      "La suma: 88\n",
      "El valor maximo: 9\n",
      "El valor minimo: 1\n"
     ]
    }
   ],
   "source": [
    "# Cosas adicionales que se pueden realizar con listas\n",
    "\n",
    "#obtener la suma de los valores contenidos en la lista\n",
    "\n",
    "valores = [1,5,3,9,6,3,5,8,7,2,6,7,2,5,2,3,5,4,5]\n",
    "\n",
    "suma = sum(valores)\n",
    "maximo = max(valores)\n",
    "minimo = min(valores)\n",
    "\n",
    "print(\"La suma:\", suma)\n",
    "print(\"El valor maximo:\", maximo)\n",
    "print(\"El valor minimo:\", minimo)"
   ]
  },
  {
   "cell_type": "markdown",
   "id": "powerful-supplier",
   "metadata": {},
   "source": [
    "### Ejercicios\n",
    "\n",
    "1. Crear una lista de frutas: *manzana*, *platano* y *melon*. Posteriormete agregar *sandia*. Despues agregarle una lista mas que contenga *papaya*, *kiwi* y *durazno*. He imprimir la lista completa. Despues remover la *sandia* e imprimir el resultado. Recorrer la lista de frutas imprimiendo cada una (usando un ciclo, de preferencia usar *for*).\n",
    "\n",
    "2. Crear una lista con sus calificaciones de Neumatica, y obtener el promedio. Se debe utilizar la funcion `sum` para el procedimiento. Imprimir cual es la calificacion maxima y minima, usando las funciones `max()` y `min()`\n"
   ]
  },
  {
   "cell_type": "markdown",
   "id": "atlantic-tuning",
   "metadata": {},
   "source": [
    "## Eliminando elementos de la lista `del`\n",
    "\n",
    "Cuando queremos eliminar algun elemento de una coleccion se usa la palabra reservada `del` junto a la posicion del elemento a eliminar.\n",
    "\n",
    "**Sintaxis**\n",
    "\n",
    "-  `del coleccion[posicion|key]`"
   ]
  },
  {
   "cell_type": "code",
   "execution_count": 31,
   "id": "express-convergence",
   "metadata": {},
   "outputs": [
    {
     "name": "stdout",
     "output_type": "stream",
     "text": [
      "['analogica', 'digitales', 'mediciones']\n",
      "['analogica', 'mediciones']\n",
      "{'carlos': [8, 8, 9], 'angel': [8, 8, 8]}\n",
      "{'angel': [8, 8, 8]}\n"
     ]
    }
   ],
   "source": [
    "# Eliminar elementos de una coleccion\n",
    "\n",
    "materias = ['analogica', 'digitales', 'mediciones' ]\n",
    "\n",
    "print(materias)\n",
    "\n",
    "del materias[1] # Elimino el elemento que esta en la posicion 1 de la coleccion\n",
    "\n",
    "print(materias)\n",
    "\n",
    "\n",
    "alumnos = { 'carlos':[8,8,9] , 'angel':[8,8,8] }\n",
    "\n",
    "print(alumnos)\n",
    "\n",
    "del alumnos['carlos']\n",
    "\n",
    "print(alumnos)"
   ]
  },
  {
   "cell_type": "markdown",
   "id": "subsequent-creativity",
   "metadata": {},
   "source": [
    "## Funcion `len`\n",
    "\n",
    "Los iteradores por default no te dicen cual es su largo, en muchas ocasiones necesitamos saber el largo para realizar ciertas tareas, para eso Python trae una funcion que nos ayuda.\n",
    "\n",
    "**Sintaxis**\n",
    "\n",
    "- `len(iterator)`: Devuelve el numero de los elementos de una coleccion"
   ]
  },
  {
   "cell_type": "code",
   "execution_count": 33,
   "id": "appropriate-bolivia",
   "metadata": {},
   "outputs": [
    {
     "name": "stdout",
     "output_type": "stream",
     "text": [
      "largo de str 4\n",
      "largo de tupla 5\n",
      "largo de lista 5\n",
      "largo de diccionario 3\n"
     ]
    }
   ],
   "source": [
    "# Ejemplos de aplicacion de la funcion len()\n",
    "\n",
    "string = 'hola'\n",
    "str_len = len(string)\n",
    "\n",
    "tupla = (5,9,3,6,'mensaje')\n",
    "tupla_len = len(tupla)\n",
    "\n",
    "lista = [1,2,3,6,'hola']\n",
    "lista_len = len(lista)\n",
    "\n",
    "diccionario = {'key1': 'valor1', 'key2': 'valor2', 'key3': 'valor3' }\n",
    "dic_len = len(diccionario)\n",
    "\n",
    "print('largo de str',str_len)\n",
    "print('largo de tupla',tupla_len)\n",
    "print('largo de lista',lista_len)\n",
    "print('largo de diccionario',dic_len)"
   ]
  },
  {
   "cell_type": "code",
   "execution_count": 38,
   "id": "devoted-valley",
   "metadata": {},
   "outputs": [
    {
     "name": "stdout",
     "output_type": "stream",
     "text": [
      "Una de las especialidades es: mecatronica\n",
      "Una de las especialidades es: laboratorio\n",
      "Una de las especialidades es: contanbilidad\n",
      "Una de las especialidades es: mecanica\n",
      "Una de las especialidades es: electricidad\n"
     ]
    }
   ],
   "source": [
    "especialidades = [\n",
    "    'mecatronica',\n",
    "    'laboratorio',\n",
    "    'contanbilidad',\n",
    "    'mecanica',\n",
    "    'electricidad'\n",
    "    ]\n",
    "\n",
    "count = 0\n",
    "\n",
    "while count < len(especialidades):\n",
    "    especialidad = especialidades[count]\n",
    "    print(f'Una de las especialidades es: {especialidad}')\n",
    "    count+=1"
   ]
  },
  {
   "cell_type": "code",
   "execution_count": 2,
   "id": "coastal-oxford",
   "metadata": {},
   "outputs": [
    {
     "name": "stdout",
     "output_type": "stream",
     "text": [
      "Hola, me llamo MecaBot\n",
      "Cual es tu nombre\n",
      "Jose\n",
      "Es un gusto concerte Jose\n",
      "Que lindo nombre tienes ;)\n",
      "Cual es tu hobby?\n",
      "correr\n",
      "Wow!!!! que conincidencia, a mi tambien me encanta correr\n",
      "Te cuento que tambien me gusta mucho leer\n"
     ]
    }
   ],
   "source": [
    "import random\n",
    "#Creando un pesudobot\n",
    "\n",
    "#declaramos una lista con las frases que queremos decir con nuestro bot\n",
    "hobbies = ['leer', 'correr', 'nadar']\n",
    "\n",
    "\n",
    "print('Hola, me llamo MecaBot')\n",
    "print('Cual es tu nombre')\n",
    "name = input()\n",
    "\n",
    "print(f'Es un gusto concerte {name}')\n",
    "print('Que lindo nombre tienes ;)')\n",
    "\n",
    "print('Cual es tu hobby?')\n",
    "hobby = input()\n",
    "\n",
    "print(f'Wow!!!! que conincidencia, a mi tambien me encanta {hobby}')\n",
    "print(f'Te cuento que tambien me gusta mucho {random.choice(hobbies)}')\n"
   ]
  },
  {
   "cell_type": "markdown",
   "id": "excessive-titanium",
   "metadata": {},
   "source": [
    "## 2.10.3 Diccionarios\n",
    "\n",
    "Son un tipo de coleccion que su estructura es `Llave - Valor`. Para obtener el acceso al *valor* se hace a traves de la *llave*. La llave es unica y por lo tanto no se puede repetir.\n",
    "\n",
    "**Sintaxis**\n",
    "\n",
    "```python\n",
    "# Creacion de un diccionario    \n",
    "    diccionario = { \n",
    "        'llave1': 'str',\n",
    "        'llave2' : 5\n",
    "        'llave3' : True,\n",
    "        'llave4' : [1,2,6,'a']\n",
    "        ......        \n",
    "    }\n",
    "    \n",
    "# Leyendo datos del diccionario\n",
    "\n",
    "variable1 = diccionario['llave3'] # True\n",
    "variable1 = diccionario.get('llave3') # True, en caso que no exista devuelve None\n",
    "\n",
    "# Modificando valores existentes en el diccionario\n",
    "\n",
    "diccionario['llave4'] = [1,2,6,8,5,6]\n",
    "\n",
    "# Agregando valores nuevos al diccionario\n",
    "\n",
    "diccionario['llave5'] = 'un valor'\n",
    "```\n"
   ]
  },
  {
   "cell_type": "code",
   "execution_count": 5,
   "id": "c4d99ed4",
   "metadata": {},
   "outputs": [
    {
     "name": "stdout",
     "output_type": "stream",
     "text": [
      "9\n",
      "8\n",
      "10\n",
      "10\n",
      "7\n"
     ]
    }
   ],
   "source": [
    "calificaciones_neumatica = {\n",
    "    'gamas': 9,\n",
    "    'angelo': 8,\n",
    "    'dania' : 10    \n",
    "}\n",
    "\n",
    "print(calificaciones_neumatica['gamas'] )\n",
    "print(calificaciones_neumatica['angelo'] )\n",
    "print(calificaciones_neumatica['dania'] )\n",
    "\n",
    "calificaciones_neumatica['leon'] = 10 # agregando un valor al diccionario\n",
    "\n",
    "print(calificaciones_neumatica['leon'])\n",
    "\n",
    "calificaciones_neumatica['angelo'] = 7 # actualizo el valor de esa llave\n",
    "\n",
    "print(calificaciones_neumatica['angelo'])"
   ]
  },
  {
   "cell_type": "code",
   "execution_count": 10,
   "id": "de27c8b5",
   "metadata": {},
   "outputs": [
    {
     "name": "stdout",
     "output_type": "stream",
     "text": [
      "con la llave: gamas, el valor es: 9\n",
      "con la llave: angelo, el valor es: 7\n",
      "con la llave: dania, el valor es: 10\n",
      "con la llave: leon, el valor es: 10\n",
      "=======================\n",
      "gamas\n",
      "angelo\n",
      "dania\n",
      "leon\n",
      "=======================\n",
      "9\n",
      "7\n",
      "10\n",
      "10\n"
     ]
    }
   ],
   "source": [
    "for key in calificaciones_neumatica:\n",
    "    print(f'con la llave: {key}, el valor es: {calificaciones_neumatica[key]}')\n",
    "\n",
    "print('=======================')\n",
    "\n",
    "# Extraigo todas las llaves\n",
    "for key in calificaciones_neumatica.keys():\n",
    "    print(key)\n",
    "\n",
    "print('=======================')\n",
    "    \n",
    "# Extraigo los valores\n",
    "for values in calificaciones_neumatica.values():\n",
    "    print(values)"
   ]
  },
  {
   "cell_type": "markdown",
   "id": "chronic-assembly",
   "metadata": {},
   "source": [
    "## Funcion de ordenamiento (`sorted`)\n",
    "\n",
    "TODO\n",
    "\n",
    "https://developers.google.com/edu/python/sorting"
   ]
  },
  {
   "cell_type": "markdown",
   "id": "alpha-western",
   "metadata": {},
   "source": [
    "## Funcion `tuple()`\n",
    "\n",
    "La funcion tuple crea una instancia de una tupla vacia si no le pasamos ningun argumento. El argumento que puede recibir una coleccion."
   ]
  },
  {
   "cell_type": "code",
   "execution_count": 25,
   "id": "fec08693",
   "metadata": {},
   "outputs": [
    {
     "name": "stdout",
     "output_type": "stream",
     "text": [
      "[8, 6, 9, 6, 8]\n",
      "(8, 6, 9, 6, 8)\n"
     ]
    }
   ],
   "source": [
    "mi_tupla = tuple() # crea una tupla vacia\n",
    "\n",
    "calificaciones = [8,6,9,6,8]\n",
    "\n",
    "tupla_calificaciones = tuple(calificaciones)\n",
    "\n",
    "type(mi_tupla)\n",
    "\n",
    "print(calificaciones)\n",
    "print(tupla_calificaciones)"
   ]
  },
  {
   "cell_type": "markdown",
   "id": "intelligent-designer",
   "metadata": {},
   "source": [
    "## Funcion `list()`\n",
    "\n",
    "La funcion list crea una instancia de una lista vacia si no le pasamos ningun argumento. El argumento que puede recibir una coleccion."
   ]
  },
  {
   "cell_type": "code",
   "execution_count": 27,
   "id": "2fe4e7b8",
   "metadata": {},
   "outputs": [
    {
     "name": "stdout",
     "output_type": "stream",
     "text": [
      "[]\n",
      "(8, 6, 9, 6, 8)\n",
      "[8, 6, 9, 6, 8]\n"
     ]
    }
   ],
   "source": [
    "lista_vacia = list()\n",
    "\n",
    "print(lista_vacia)\n",
    "\n",
    "tupla_calificaciones = (8, 6, 9, 6, 8)\n",
    "lista_calificaciones = list(tupla_calificaciones)\n",
    "\n",
    "print(tupla_calificaciones)\n",
    "print(lista_calificaciones)"
   ]
  },
  {
   "cell_type": "markdown",
   "id": "spectacular-socket",
   "metadata": {},
   "source": [
    "## Funcion `dict()`\n",
    "\n",
    "La funcion dict crea una instancia de un diccionario vacio si no le pasamos ningun argumento. El argumento que puede recibir una coleccion."
   ]
  },
  {
   "cell_type": "code",
   "execution_count": 33,
   "id": "a2c135e4",
   "metadata": {},
   "outputs": [
    {
     "name": "stdout",
     "output_type": "stream",
     "text": [
      "{}\n",
      "{'hola': 4}\n"
     ]
    }
   ],
   "source": [
    "mi_diccionario = dict()\n",
    "\n",
    "print(mi_diccionario)\n",
    "\n",
    "mi_diccionario['hola'] = 4\n",
    "\n",
    "print(mi_diccionario)"
   ]
  },
  {
   "cell_type": "markdown",
   "id": "cleared-prefix",
   "metadata": {},
   "source": [
    "## Funcion `enumerate()`\n",
    "\n",
    "A esta funcion se le pasa un iterable y me devuelve 2 valores, en la primera posicion me pasa el indice y en la segunda posicion me pasa el valor que tiene en ese momento el iterador.\n",
    "\n",
    "\n",
    "**Sintaxis:**\n",
    "\n",
    "```python\n",
    "index, value = enumerate(iterador)\n",
    "```"
   ]
  },
  {
   "cell_type": "code",
   "execution_count": 37,
   "id": "b8866571",
   "metadata": {},
   "outputs": [
    {
     "name": "stdout",
     "output_type": "stream",
     "text": [
      "La posicion de pikachu es 0\n",
      "La posicion de bolbasor es 1\n",
      "La posicion de charizard es 2\n",
      "===================================\n",
      "La posicion de pikachu es 0\n",
      "La posicion de bolbasor es 1\n",
      "La posicion de charizard es 2\n"
     ]
    }
   ],
   "source": [
    "pokemons = ['pikachu', 'bolbasor', 'charizard' ]\n",
    "\n",
    "# Forma fea y horrible\n",
    "count = 0\n",
    "for pokemon in pokemons:\n",
    "    print(f'La posicion de {pokemon} es {count}')\n",
    "    count +=1\n",
    "\n",
    "print('===================================')\n",
    "\n",
    "# La forma chida\n",
    "for index, value in enumerate(pokemons):\n",
    "    print(f'La posicion de {value} es {index}')"
   ]
  },
  {
   "cell_type": "markdown",
   "id": "surface-oxford",
   "metadata": {},
   "source": [
    "Realizado por Docente: [Alejandro Leyva](https://www.alejandro-leyva.com/)\n",
    "\n",
    "[Mecatrónica 85](https://mecatronica85.com/)\n",
    "\n",
    "[fb/mecatronica85](https://www.facebook.com/mecatronica85)"
   ]
  }
 ],
 "metadata": {
  "kernelspec": {
   "display_name": "Python 3",
   "language": "python",
   "name": "python3"
  },
  "language_info": {
   "codemirror_mode": {
    "name": "ipython",
    "version": 3
   },
   "file_extension": ".py",
   "mimetype": "text/x-python",
   "name": "python",
   "nbconvert_exporter": "python",
   "pygments_lexer": "ipython3",
   "version": "3.7.3"
  }
 },
 "nbformat": 4,
 "nbformat_minor": 5
}
