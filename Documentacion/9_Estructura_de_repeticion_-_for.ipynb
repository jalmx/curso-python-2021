{
 "cells": [
  {
   "cell_type": "markdown",
   "id": "special-performance",
   "metadata": {},
   "source": [
    "![banner](../logo/banner.png)"
   ]
  },
  {
   "cell_type": "markdown",
   "id": "wicked-hampshire",
   "metadata": {},
   "source": [
    "# 2.9 Estructura de repetición `for`\n",
    "\n",
    "La siguiente estructura de control se llama `for`. Esta estructura tiene un comportamiento similar a `while`. En esencial hace lo mismo, repite hasta un limite pero este se da distinto. `For each`.\n",
    "\n",
    "**Sintasix:**\n",
    "\n",
    "```python\n",
    "for variable in iterador : \n",
    "    código a ejecutar\n",
    "    código a ejecutar\n",
    "    código a ejecutar\n",
    "    ...\n",
    "```"
   ]
  },
  {
   "cell_type": "markdown",
   "id": "featured-texture",
   "metadata": {},
   "source": [
    "## Funcion `range()`\n",
    "\n",
    "La funcion `range()` retorna un secuencia de numeros, comenzando por default en 0 e incrementando en 1, y se detiene antes del número especificado.\n",
    "\n",
    "**Sintaxis**\n",
    "\n",
    "```python\n",
    "range(start, stop, step)\n",
    "```\n",
    "\n",
    "**Parametros:**\n",
    "\n",
    "- `start`\t(opcional). Un numero entero especificamente para la posicion inicial, por default es 0\n",
    "- `stop`\t(Requerido). Un numero entero que especifica en donde se detendra.\n",
    "- `step`\t(opcional). Un numero entero que especifica el incremento. Por default es 1.\n",
    "\n",
    "Esta función se utiliza con el ciclo `for`"
   ]
  },
  {
   "cell_type": "code",
   "execution_count": 4,
   "id": "radio-anger",
   "metadata": {
    "scrolled": true
   },
   "outputs": [
    {
     "name": "stdout",
     "output_type": "stream",
     "text": [
      "el valor actual es: \"0\"\n",
      "el valor actual es: \"1\"\n",
      "el valor actual es: \"2\"\n",
      "el valor actual es: \"3\"\n",
      "el valor actual es: \"4\"\n",
      "el valor actual es: \"5\"\n",
      "el valor actual es: \"6\"\n",
      "el valor actual es: \"7\"\n",
      "el valor actual es: \"8\"\n",
      "el valor actual es: \"9\"\n"
     ]
    }
   ],
   "source": [
    "#Vamos a imprimir 10 números, del 0 al 9, recordemos que el número que le pasamos es el tope y ese no se imprime, \n",
    "#y el valor inicial por default es 0, el incremento es de 1 en 1\n",
    "\n",
    "for valor in range(10):\n",
    "    print(f'el valor actual es: \"{valor}\"')\n",
    "    "
   ]
  },
  {
   "cell_type": "code",
   "execution_count": 5,
   "id": "circular-shooting",
   "metadata": {},
   "outputs": [
    {
     "name": "stdout",
     "output_type": "stream",
     "text": [
      "el valor actual es: \"2\"\n",
      "el valor actual es: \"3\"\n",
      "el valor actual es: \"4\"\n",
      "el valor actual es: \"5\"\n",
      "el valor actual es: \"6\"\n",
      "el valor actual es: \"7\"\n",
      "el valor actual es: \"8\"\n",
      "el valor actual es: \"9\"\n",
      "el valor actual es: \"10\"\n",
      "el valor actual es: \"11\"\n"
     ]
    }
   ],
   "source": [
    "# Ahora vamos a imprimir en un rango, entonces se le pasa el inicio y el fin,\n",
    "# comenzando en 2 y terminando en 11\n",
    "\n",
    "for valor in range(2,12):\n",
    "    print(f'el valor actual es: \"{valor}\"')"
   ]
  },
  {
   "cell_type": "code",
   "execution_count": 6,
   "id": "static-traffic",
   "metadata": {},
   "outputs": [
    {
     "name": "stdout",
     "output_type": "stream",
     "text": [
      "3\n",
      "5\n",
      "7\n",
      "9\n",
      "11\n",
      "13\n",
      "15\n",
      "17\n",
      "19\n",
      "21\n"
     ]
    }
   ],
   "source": [
    "# Ahora vamos a imprimir en un rango, entonces se le pasa el inicio y el fin, \n",
    "# comenzando en 1 y terminando en 20, de 2 en 2\n",
    "\n",
    "for valor in range(3,22,2):\n",
    "    print(valor)"
   ]
  },
  {
   "cell_type": "markdown",
   "id": "sought-cotton",
   "metadata": {},
   "source": [
    "*Nota: Cuando queramos ya sea comenzar en un numero distinto, o cero con un incremento diferente se tiene que pasar el valor de incremento forzosamente*"
   ]
  },
  {
   "cell_type": "markdown",
   "id": "expired-utility",
   "metadata": {},
   "source": [
    "### Ejemplos\n",
    "\n",
    "**1. Solicitar 3 calificaciones del parcial y calcular el promedio**"
   ]
  },
  {
   "cell_type": "code",
   "execution_count": 7,
   "id": "cheap-liability",
   "metadata": {},
   "outputs": [
    {
     "name": "stdout",
     "output_type": "stream",
     "text": [
      "Dar el parcial 1: 8\n",
      "Dar el parcial 2: 7\n",
      "Dar el parcial 3: 10\n",
      "El promedio es 8.333333333333334\n"
     ]
    }
   ],
   "source": [
    "suma = 0.0\n",
    "\n",
    "for calificacion in range(3):\n",
    "    suma += float(input(f\"Dar el parcial {calificacion + 1}: \"))\n",
    "\n",
    "print(f\"El promedio es {suma / 3}\")"
   ]
  },
  {
   "cell_type": "markdown",
   "id": "fleet-resistance",
   "metadata": {},
   "source": [
    "**2. Imprimir la tabla del 7 con el formato \"7 x 10 = 70\"**"
   ]
  },
  {
   "cell_type": "code",
   "execution_count": 8,
   "id": "aquatic-artwork",
   "metadata": {},
   "outputs": [
    {
     "name": "stdout",
     "output_type": "stream",
     "text": [
      "7 x 1 = 7\n",
      "7 x 2 = 14\n",
      "7 x 3 = 21\n",
      "7 x 4 = 28\n",
      "7 x 5 = 35\n",
      "7 x 6 = 42\n",
      "7 x 7 = 49\n",
      "7 x 8 = 56\n",
      "7 x 9 = 63\n",
      "7 x 10 = 70\n"
     ]
    }
   ],
   "source": [
    "tabla = 7\n",
    "\n",
    "for contador in range(1,11):\n",
    "    resultado = tabla * contador\n",
    "    print( str(tabla) + \" x \" + str(contador) + \" = \" +  str(resultado) )\n"
   ]
  },
  {
   "cell_type": "code",
   "execution_count": 11,
   "id": "original-authentication",
   "metadata": {},
   "outputs": [
    {
     "name": "stdout",
     "output_type": "stream",
     "text": [
      "0\n",
      "1\n",
      "2\n",
      "3\n"
     ]
    }
   ],
   "source": [
    "for v in range(10):\n",
    "    print(v)\n",
    "    \n",
    "    if v == 3:\n",
    "        break"
   ]
  },
  {
   "cell_type": "code",
   "execution_count": 1,
   "id": "micro-comment",
   "metadata": {
    "scrolled": true
   },
   "outputs": [
    {
     "name": "stdout",
     "output_type": "stream",
     "text": [
      "S\n",
      "u\n",
      "p\n",
      "e\n",
      "r\n",
      " \n",
      "m\n",
      "e\n",
      "c\n",
      "a\n",
      "t\n",
      "r\n",
      "o\n",
      "n\n",
      "i\n",
      "c\n",
      "a\n",
      " \n",
      "1\n",
      "0\n",
      "0\n",
      "0\n",
      "%\n"
     ]
    }
   ],
   "source": [
    "mensaje = \"Super mecatronica 1000%\"\n",
    "\n",
    "for letra in mensaje:\n",
    "    print(letra)"
   ]
  },
  {
   "cell_type": "code",
   "execution_count": 3,
   "id": "varying-allowance",
   "metadata": {},
   "outputs": [
    {
     "name": "stdout",
     "output_type": "stream",
     "text": [
      "0\n",
      "1\n",
      "2\n",
      "3\n",
      "4\n",
      "5\n",
      "6\n",
      "7\n",
      "8\n",
      "9\n",
      "---------------\n",
      "0\n",
      "1\n",
      "2\n",
      "3\n",
      "4\n",
      "5\n",
      "6\n",
      "7\n",
      "8\n",
      "9\n"
     ]
    }
   ],
   "source": [
    "#Comparativa entre el for vs while\n",
    "\n",
    "print('Con FOR')\n",
    "\n",
    "for contador in range(0,10):\n",
    "    print(contador)\n",
    "    \n",
    "print('---------------')\n",
    "\n",
    "print('Con WHILE')\n",
    "\n",
    "contador = 0\n",
    "\n",
    "while contador < 10:\n",
    "    print(contador)\n",
    "    contador += 1"
   ]
  },
  {
   "cell_type": "markdown",
   "id": "neural-louis",
   "metadata": {},
   "source": [
    "**Ejercicio:**\n",
    "\n",
    "1. Recorer un rango del 0 al 10 e indicar cuales son par e impar\n",
    "2. Recorer un rango del 5 al 32 e indicar los que sean multiplos de 5\n",
    "3. Solicitarle al usuario que tabla desea imprimir, indicando desde donde comienza y donde termina\n",
    "4. Calcular el promedio de la sumatoria de los numeros pares desde el 2 hasta el 200"
   ]
  },
  {
   "cell_type": "markdown",
   "id": "surface-oxford",
   "metadata": {},
   "source": [
    "---\n",
    "Realizado por Docente: [Alejandro Leyva](https://www.alejandro-leyva.com/)\n",
    "\n",
    "[Mecatrónica 85](https://mecatronica85.com/)\n",
    "\n",
    "[fb/mecatronica85](https://www.facebook.com/mecatronica85)"
   ]
  }
 ],
 "metadata": {
  "kernelspec": {
   "display_name": "Python 3",
   "language": "python",
   "name": "python3"
  },
  "language_info": {
   "codemirror_mode": {
    "name": "ipython",
    "version": 3
   },
   "file_extension": ".py",
   "mimetype": "text/x-python",
   "name": "python",
   "nbconvert_exporter": "python",
   "pygments_lexer": "ipython3",
   "version": "3.7.3"
  }
 },
 "nbformat": 4,
 "nbformat_minor": 5
}
