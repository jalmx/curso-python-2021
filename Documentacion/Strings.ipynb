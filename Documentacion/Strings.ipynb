{
 "cells": [
  {
   "cell_type": "markdown",
   "id": "special-performance",
   "metadata": {},
   "source": [
    "![banner](../logo/banner.png)"
   ]
  },
  {
   "cell_type": "markdown",
   "id": "wicked-hampshire",
   "metadata": {},
   "source": [
    "# Strings (str)\n",
    "\n",
    "En esta sección veremos con mas detalle la manipulacion de [strings](https://www.w3schools.com/python/python_ref_string.asp).\n",
    "La manipulacion de string a detalle es sumamente util para separarlo, saber si contiene alguna letra, palabra u oración. Recordemos que todo en python es un objeto y al ser un objeto contienen por default muchos métodos con los cuales podemos operar ese `string`."
   ]
  },
  {
   "cell_type": "markdown",
   "id": "featured-texture",
   "metadata": {},
   "source": [
    "## Convertir a minúsculas (lower)\n",
    "\n",
    "Una función que nos fascilita es convertir todo el string a minúsculas. Ignora simbolos y números.\n",
    "\n",
    "- lower(): Converts a string into lower case"
   ]
  },
  {
   "cell_type": "code",
   "execution_count": 2,
   "id": "dimensional-maldives",
   "metadata": {},
   "outputs": [
    {
     "name": "stdout",
     "output_type": "stream",
     "text": [
      "hola como estas\n"
     ]
    }
   ],
   "source": [
    "# Todas la letras las pasara a minúsculas\n",
    "\n",
    "mensaje = \"Hola Como ESTAS\"\n",
    "minuscula = mensaje.lower()\n",
    "\n",
    "print(minuscula)"
   ]
  },
  {
   "cell_type": "markdown",
   "id": "understanding-tampa",
   "metadata": {},
   "source": [
    "## Convertir a Mayúsculas (upper)\n",
    "\n",
    "Una función que nos fascilita es convertir todo el string a mayúsculas. Ignora simbolos y números.\n",
    "\n",
    "- upper(): Converts a string into upper case"
   ]
  },
  {
   "cell_type": "code",
   "execution_count": 3,
   "id": "optional-vienna",
   "metadata": {},
   "outputs": [
    {
     "name": "stdout",
     "output_type": "stream",
     "text": [
      "HOLA COMO ESTAS\n"
     ]
    }
   ],
   "source": [
    "# Todas la letras las pasara a mayúsculas\n",
    "\n",
    "mensaje = \"Hola Como ESTAS\"\n",
    "upper = mensaje.upper()\n",
    "\n",
    "print(upper)"
   ]
  },
  {
   "cell_type": "markdown",
   "id": "external-scotland",
   "metadata": {},
   "source": []
  },
  {
   "cell_type": "markdown",
   "id": "still-universe",
   "metadata": {},
   "source": [
    "## Convertir a Mayúsculas (capitalize)\n",
    "\n",
    "Una función que nos fascilita es convertir solo la primer letra a mayúsculas, el resto a minúsculas. Esto es útil para cuando queremos que una oración inicie en mayusculas o palabra. Ignora simbolos y números.\n",
    "\n",
    "- capitalize(): Converts the first character to upper case"
   ]
  },
  {
   "cell_type": "code",
   "execution_count": 6,
   "id": "caroline-float",
   "metadata": {},
   "outputs": [
    {
     "name": "stdout",
     "output_type": "stream",
     "text": [
      "Hola como estas\n"
     ]
    }
   ],
   "source": [
    "# Todas la letras las pasara a mayúsculas\n",
    "\n",
    "mensaje = \"hola Como ESTAS\"\n",
    "capital = mensaje.capitalize()\n",
    "\n",
    "print(capital)"
   ]
  },
  {
   "cell_type": "markdown",
   "id": "ceramic-concept",
   "metadata": {},
   "source": [
    "## Contador de palabras (count)\n",
    "\n",
    "Los string cuenta con método el cual nos ayuda directamente a saber cuantas veces se encuentra una palabra dentro de ese string, debe ser igual la palabra a la que se le paso.\n",
    "\n",
    "- count(value, start, end): method returns the number of times a specified value appears in the string\n",
    "\n",
    "**Parametros:**\n",
    "\n",
    "- `value`: Required. A String. The string to value to search for\n",
    "- `start`: Optional. An Integer. The position to start the search. Default is 0\n",
    "- `end`: Optional. An Integer. The position to end the search. Default is the end of the string"
   ]
  },
  {
   "cell_type": "code",
   "execution_count": 11,
   "id": "explicit-ukraine",
   "metadata": {},
   "outputs": [
    {
     "name": "stdout",
     "output_type": "stream",
     "text": [
      "Veces que sale la palabra \"mecatronica\" es: 2\n"
     ]
    }
   ],
   "source": [
    "phrase = \"Mecatronica es la mejor especialidad, siendo mecatronica una especialidad muy amplica. mecatronica 100%\"\n",
    "count = phrase.count(\"mecatronica\")\n",
    "print(f'Veces que sale la palabra \\\"mecatronica\\\" es: {count}')"
   ]
  },
  {
   "cell_type": "markdown",
   "id": "junior-ballet",
   "metadata": {},
   "source": [
    "## Es o no es un\n",
    "\n",
    "En ocasiones queremos conocer si un string es o esta en cierta forma.\n",
    "\n",
    "- `isdigit()`:\tReturns True if all characters in the string are digits\n",
    "- `islower()`:\tReturns True if all characters in the string are lower case\n",
    "- `isnumeric()`:\tReturns True if all characters in the string are numeric\n",
    "- `isspace()`:\tReturns True if all characters in the string are whitespaces\n",
    "- `isupper()`:\tReturns True if all characters in the string are upper case\n"
   ]
  },
  {
   "cell_type": "code",
   "execution_count": 18,
   "id": "cloudy-croatia",
   "metadata": {},
   "outputs": [
    {
     "name": "stdout",
     "output_type": "stream",
     "text": [
      "Es un número: True\n",
      "Es un número: True\n",
      "Esta en minúsculas: True\n",
      "Esta en mayúsculas: True\n",
      "Son espacios: True\n"
     ]
    }
   ],
   "source": [
    "print(f'Es un número: {\"4\".isdigit()}')\n",
    "print(f'Es un número: {\"4\".isnumeric()}')\n",
    "print(f'Esta en minúsculas: {\"hola\".islower()}')\n",
    "print(f'Esta en mayúsculas: {\"HOLA\".isupper()}')\n",
    "print(f'Son espacios: {\" \".isspace()}')"
   ]
  },
  {
   "cell_type": "markdown",
   "id": "together-eligibility",
   "metadata": {},
   "source": [
    "- endswith()\tReturns true if the string ends with the specified value\n",
    "- title()\tConverts the first character of each word to upper case\n",
    "- find()\tSearches the string for a specified value and returns the position of where it was found\n",
    "- index()\tSearches the string for a specified value and returns the position of where it was found\n",
    "- format()\tFormats specified values in a string\n",
    "- join()\tJoins the elements of an iterable to the end of the string\n",
    "- lstrip()\tReturns a left trim version of the string\n",
    "- replace()\tReturns a string where a specified value is replaced with a specified value\n",
    "- rfind()\tSearches the string for a specified value and returns the last position of where it was found\n",
    "- rindex()\tSearches the string for a specified value and returns the last position of where it was found\n",
    "- rsplit()\tSplits the string at the specified separator, and returns a list\n",
    "- rstrip()\tReturns a right trim version of the string\n",
    "- split()\tSplits the string at the specified separator, and returns a list\n",
    "- splitlines()\tSplits the string at line breaks and returns a list\n",
    "- startswith()\tReturns true if the string starts with the specified value\n",
    "- strip()\tReturns a trimmed version of the string\n",
    "\n",
    "https://www.w3schools.com/python/python_ref_string.asp"
   ]
  },
  {
   "cell_type": "code",
   "execution_count": null,
   "id": "tired-munich",
   "metadata": {},
   "outputs": [],
   "source": []
  },
  {
   "cell_type": "markdown",
   "id": "billion-column",
   "metadata": {},
   "source": []
  },
  {
   "cell_type": "markdown",
   "id": "excessive-titanium",
   "metadata": {},
   "source": []
  },
  {
   "cell_type": "markdown",
   "id": "surface-oxford",
   "metadata": {},
   "source": [
    "---\n",
    "Realizado por Docente: [Alejandro Leyva](https://www.alejandro-leyva.com/)\n",
    "\n",
    "[Mecatrónica 85](https://mecatronica85.com/)\n",
    "\n",
    "[fb/mecatronica85](https://www.facebook.com/mecatronica85)"
   ]
  }
 ],
 "metadata": {
  "kernelspec": {
   "display_name": "Python 3",
   "language": "python",
   "name": "python3"
  },
  "language_info": {
   "codemirror_mode": {
    "name": "ipython",
    "version": 3
   },
   "file_extension": ".py",
   "mimetype": "text/x-python",
   "name": "python",
   "nbconvert_exporter": "python",
   "pygments_lexer": "ipython3",
   "version": "3.7.3"
  }
 },
 "nbformat": 4,
 "nbformat_minor": 5
}
