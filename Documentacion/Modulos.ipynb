{
 "cells": [
  {
   "cell_type": "markdown",
   "id": "special-performance",
   "metadata": {},
   "source": [
    "![banner](../logo/banner.png)"
   ]
  },
  {
   "cell_type": "markdown",
   "id": "wicked-hampshire",
   "metadata": {},
   "source": [
    "# Módulos\n",
    "\n",
    "Son funciones que existen dentro de Python para realizar alguna cosa que necesitemos o sean comunes para resolver algún problema. Muchos módulos se deben importar, dado que no están disponible con solo invocar la función a ocupar."
   ]
  },
  {
   "cell_type": "markdown",
   "id": "featured-texture",
   "metadata": {},
   "source": [
    "## Módulo `random`\n",
    "\n",
    "El módulo `random` genera un número al azar 0.0 <= x < 1.0. Pero tiene varias funciones que nos pueden ayudar dependiendo que vayamos a realizar.\n",
    "\n",
    "Tienes muchas funciones útiles, pero aquí solo se mencionan algunas, para más detalles ir a la documentación oficial:\n",
    "\n",
    "- `random()`: Retorna un número random entre 0.0 a 1.0\n",
    "- `randrange(value)`: Devuelve un número entero entre 0 al valor dado menos 1.\n",
    "- `choice(list):` Se le pasa una lista y retorna algún valor de ahí al azar\n",
    "- `randint(min, max)`: Retorna un valor entero aleatorio entre el mínimo y máximo que se le indique\n",
    "\n",
    "[Documentación oficial de random](https://docs.python.org/3.7/library/random.html)"
   ]
  },
  {
   "cell_type": "code",
   "execution_count": 6,
   "id": "better-bargain",
   "metadata": {},
   "outputs": [
    {
     "name": "stdout",
     "output_type": "stream",
     "text": [
      "0.9434806652958366\n",
      "----------------------------------------\n",
      "0.9418708971399746\n",
      "0.24762891571065693\n",
      "0.9271427494593301\n",
      "0.6822774976172582\n",
      "0.23363131810814664\n",
      "0.7457655424264042\n",
      "0.4618611306880258\n",
      "0.8803150650138123\n",
      "0.7359502614366726\n",
      "0.28509275831478165\n"
     ]
    }
   ],
   "source": [
    "import random # siempre que queremos usar el modulo random lo debemos importarlo\n",
    "\n",
    "numero_random = random.random() # esto nos regresa un numero al azar que puede ir de 0.0 a 1.0\n",
    "\n",
    "print(numero_random)\n",
    "print('----------------------------------------')\n",
    "count = 0\n",
    "while count < 10:\n",
    "    print(random.random())\n",
    "    count +=1"
   ]
  },
  {
   "cell_type": "code",
   "execution_count": 13,
   "id": "hydraulic-livestock",
   "metadata": {},
   "outputs": [
    {
     "name": "stdout",
     "output_type": "stream",
     "text": [
      "27\n"
     ]
    }
   ],
   "source": [
    "#nos devuelve un valor entero de 0 al valor que le dimos - 1\n",
    "\n",
    "numero_en_rango = random.randrange(101) \n",
    "\n",
    "print(numero_en_rango)"
   ]
  },
  {
   "cell_type": "code",
   "execution_count": 21,
   "id": "stretch-segment",
   "metadata": {},
   "outputs": [
    {
     "name": "stdout",
     "output_type": "stream",
     "text": [
      "8\n"
     ]
    }
   ],
   "source": [
    "# nos devulve un valor en el rango de 5 (min) al 15 (max)\n",
    "\n",
    "numero_rango_min_max = random.randint(3, 15) \n",
    "\n",
    "print(numero_rango_min_max)"
   ]
  },
  {
   "cell_type": "code",
   "execution_count": 29,
   "id": "atomic-conviction",
   "metadata": {},
   "outputs": [
    {
     "name": "stdout",
     "output_type": "stream",
     "text": [
      "mecatronica\n"
     ]
    }
   ],
   "source": [
    "# con esta funcion le podemos pasar una lista y devolvera un valor de esa lista al azar\n",
    "\n",
    "lista = [\"hola\",\"mensaje\", \"texto\",\"mecatronica\",\"cbtis85\"]\n",
    "valor = random.choice(lista)\n",
    "\n",
    "print(valor)"
   ]
  },
  {
   "cell_type": "code",
   "execution_count": 30,
   "id": "subjective-dominant",
   "metadata": {},
   "outputs": [
    {
     "name": "stdout",
     "output_type": "stream",
     "text": [
      "Juego de adivina el numero\n",
      "El numero esta entre 1 y 10\n",
      "Tienes 5 intentos\n",
      "Mucha suerte!!!!\n",
      "Dame un valor: 5\n",
      "Felicidades le has atinado\n"
     ]
    }
   ],
   "source": [
    "#Juego de adivina el numero vBTV\n",
    "\n",
    "import random\n",
    "\n",
    "number = random.randint(1,10)\n",
    "\n",
    "print(\"Juego de adivina el numero\")\n",
    "print(\"El numero esta entre 1 y 10\")\n",
    "print(\"Tienes 5 intentos\")\n",
    "print(\"Mucha suerte!!!!\")\n",
    "\n",
    "intentos = 0\n",
    "while True:\n",
    "    nuevo = int(input(\"Dame un valor: \"))\n",
    "\n",
    "    if nuevo < number:\n",
    "        print(\"El numero es MAYOR\")\n",
    "        intentos +=1\n",
    "    elif nuevo > number:\n",
    "        print(\"El numero es MENOR\")\n",
    "        intentos +=1\n",
    "    else:\n",
    "        print(\"Felicidades le has atinado\")\n",
    "        break\n",
    "\n",
    "    print(f\"Llevas {intentos} intentos\")\n",
    "    \n",
    "    if intentos == 5:\n",
    "        print(\"Perdiste, lastima margarito  T.T\")\n",
    "        break"
   ]
  },
  {
   "cell_type": "code",
   "execution_count": 31,
   "id": "standing-procurement",
   "metadata": {},
   "outputs": [
    {
     "name": "stdout",
     "output_type": "stream",
     "text": [
      "JUEGO + ADIVINA EL NUMERO\n",
      "El numero esta entre 1 al 10\n",
      "Tienes solo 5 intentos\n",
      "Mucha suerte >:) \n",
      "Dar el numero: 5\n",
      "El numero es mayor\n",
      "Dar el numero: 6\n",
      "Felicidades le atinaste :D\n"
     ]
    }
   ],
   "source": [
    "#Juego de adivina el numero vATM\n",
    "import random\n",
    "\n",
    "num_random = random.randint(1,10) #genera un numero al azar en ese rango\n",
    "\n",
    "print(\"JUEGO + ADIVINA EL NUMERO\")\n",
    "print(\"El numero esta entre 1 al 10\")\n",
    "print(\"Tienes solo 5 intentos\")\n",
    "print(\"Mucha suerte >:) \")\n",
    "\n",
    "intentos = 0\n",
    "while True:\n",
    "    number = int(input(\"Dar el numero: \"))\n",
    "\n",
    "    if number < num_random:\n",
    "        print(\"El numero es mayor\")\n",
    "        intentos +=1\n",
    "    elif number > num_random:\n",
    "        print(\"El numero es menor\")\n",
    "        intentos +=1\n",
    "    else:\n",
    "        print(\"Felicidades le atinaste :D\")\n",
    "        break\n",
    "\n",
    "    if intentos == 5:\n",
    "        print(f\"Fallaste {intentos} veces\")\n",
    "        print(f\"EL numero era: {num_random}\")\n",
    "        print(f\"Lastima margarito\")\n",
    "        break"
   ]
  },
  {
   "cell_type": "markdown",
   "id": "union-marshall",
   "metadata": {},
   "source": [
    "## Módulo `math`\n",
    "\n",
    "Este módulo es enfocado a matemáticas, tiene funciones que nos facilitan realizar cálculos complejos.\n",
    "\n",
    "- `ceil(x)`: Retorna un entero. Redondeo hacia abajo\n",
    "- `floor(x)`: Retorna un entero. Redondeo hacia arriba.\n",
    "- `sqrt(x)`: Raiz cuadrada de `x`.\n",
    "- `pow(base, potencia)`: es equivalente a base ** potencia = base ^ potencia\n",
    "- `cos(x)`: coseno de x en radianes\n",
    "- `sin(x)`: seno de x en radianes\n",
    "- `tan(x)`: tangente de x en radianes\n",
    "- `pi`: Devuelve el valor de PI =π = 3.141592...\n",
    "- `e`: Devuelve el valor de E (Euler) = 2.718281...\n",
    "\n",
    "\n",
    "[Documentación oficial de math](https://docs.python.org/3.7/library/math.html)"
   ]
  },
  {
   "cell_type": "code",
   "execution_count": 36,
   "id": "extreme-inclusion",
   "metadata": {},
   "outputs": [
    {
     "name": "stdout",
     "output_type": "stream",
     "text": [
      "Sin redondeo 2.625\n",
      "Redondeo hacia abajo 2\n",
      "Redondeo hacia arriba 3\n"
     ]
    }
   ],
   "source": [
    "# Redondeos\n",
    "\n",
    "import math\n",
    "\n",
    "valor = 2.625\n",
    "\n",
    "r_arriba = math.ceil(valor)\n",
    "r_abajo = math.floor(valor)\n",
    "\n",
    "print(f'Sin redondeo {valor}')\n",
    "print(f'Redondeo hacia abajo {r_abajo}')\n",
    "print(f'Redondeo hacia arriba {r_arriba}')"
   ]
  },
  {
   "cell_type": "code",
   "execution_count": 33,
   "id": "composed-accent",
   "metadata": {},
   "outputs": [
    {
     "name": "stdout",
     "output_type": "stream",
     "text": [
      "Elevando 2 al cubo es: 8.0\n",
      "La raiz cuadrada de 25 es: 5.0\n"
     ]
    }
   ],
   "source": [
    "# Potencia y raiz cuadrada\n",
    "\n",
    "potencia = math.pow(2,3) # 2^3 = 2**3\n",
    "raiz = math.sqrt(25) # raiz cuadrada de 25\n",
    "\n",
    "print(f'Elevando 2 al cubo es: {potencia}')\n",
    "print(f'La raiz cuadrada de 25 es: {raiz}')"
   ]
  },
  {
   "cell_type": "code",
   "execution_count": 34,
   "id": "painful-registrar",
   "metadata": {},
   "outputs": [
    {
     "name": "stdout",
     "output_type": "stream",
     "text": [
      "Conseno de 30 es: 0.5253219888177297\n",
      "Seno de 30 es: 0.8509035245341184\n",
      "Tangete de de 30 es: 1.6197751905438615\n"
     ]
    }
   ],
   "source": [
    "# Funciones trigonometricas, siempre se dan los resultado en radianes, \n",
    "# si se quiere manejar grados tenemos que hacer la conversion\n",
    "\n",
    "coseno = math.cos(45)\n",
    "seno = math.sin(45)\n",
    "tangente = math.tan(45)\n",
    "\n",
    "print(f'Conseno de 30 es: {coseno}')\n",
    "print(f'Seno de 30 es: {seno}')\n",
    "print(f'Tangete de de 30 es: {tangente}')"
   ]
  },
  {
   "cell_type": "code",
   "execution_count": 35,
   "id": "conditional-combine",
   "metadata": {},
   "outputs": [
    {
     "name": "stdout",
     "output_type": "stream",
     "text": [
      "Valor de pi: 3.141592653589793\n",
      "Valor de Euler: 2.718281828459045\n"
     ]
    }
   ],
   "source": [
    "# Normalmente todos los lenguajes tiene una libreria matematica y traen las constantes matematicas comunes\n",
    "\n",
    "print(f'Valor de pi: {math.pi}')\n",
    "print(f'Valor de Euler: {math.e}')"
   ]
  },
  {
   "cell_type": "markdown",
   "id": "suburban-encounter",
   "metadata": {},
   "source": [
    "### La función `sum`\n",
    "\n",
    "La función `sum` es una utilidad, para realizar una *sumatoria* rápida para obtener la suma de una lista sin tener que hacerlo a mano, Python trae esta utilidad para mayor comodidad.\n",
    "\n",
    "**Sintaxis:**\n",
    "\n",
    "```Python\n",
    "sum(list)\n",
    "```\n",
    "\n",
    "**Parámetros:**\n",
    "\n",
    "- `list` : es una lista de números, pueden ser enteros o flotantes\n",
    "- `return`: El resultado de la sumatoria de los valores de la lista"
   ]
  },
  {
   "cell_type": "code",
   "execution_count": 1,
   "id": "democratic-mainland",
   "metadata": {},
   "outputs": [
    {
     "name": "stdout",
     "output_type": "stream",
     "text": [
      "Resultado de la suma: 202.2\n"
     ]
    }
   ],
   "source": [
    "# Tenemos a disposicion una funcion llamada sum\n",
    "\n",
    "numeros =[1.6,2.6,3,6,7,5,85,5,87]\n",
    "sumatoria = sum(numeros)\n",
    "\n",
    "print(f'Resultado de la suma: {sumatoria}')"
   ]
  },
  {
   "cell_type": "markdown",
   "id": "physical-shareware",
   "metadata": {},
   "source": [
    "### Funciones disponibles por default\n",
    "\n",
    "Cuando iniciamos un programa en python, por default ya contamos con varias funciones disponibles para utilizarlas.\n",
    "\n",
    "Para ver las funciones disponibles ir a la [Documentacion de python \"Funciones\"](https://docs.python.org/3/library/functions.html)\n"
   ]
  },
  {
   "cell_type": "markdown",
   "id": "surface-oxford",
   "metadata": {},
   "source": [
    "---\n",
    "Realizado por Docente: [Alejandro Leyva](https://www.alejandro-leyva.com/)\n",
    "\n",
    "[Mecatrónica 85](https://mecatronica85.com/)\n",
    "\n",
    "[fb/mecatronica85](https://www.facebook.com/mecatronica85)"
   ]
  }
 ],
 "metadata": {
  "kernelspec": {
   "display_name": "Python 3",
   "language": "python",
   "name": "python3"
  },
  "language_info": {
   "codemirror_mode": {
    "name": "ipython",
    "version": 3
   },
   "file_extension": ".py",
   "mimetype": "text/x-python",
   "name": "python",
   "nbconvert_exporter": "python",
   "pygments_lexer": "ipython3",
   "version": "3.7.3"
  }
 },
 "nbformat": 4,
 "nbformat_minor": 5
}
