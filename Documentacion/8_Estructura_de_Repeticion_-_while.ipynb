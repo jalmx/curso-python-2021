{
 "cells": [
  {
   "cell_type": "markdown",
   "id": "special-performance",
   "metadata": {},
   "source": [
    "![banner](./logo/banner.png)"
   ]
  },
  {
   "cell_type": "markdown",
   "id": "wicked-hampshire",
   "metadata": {},
   "source": [
    "# 2.8 Estructura de repetición `while` \n",
    "\n",
    "Dentro de la programación tenemos estructuras de control para repetir acciones. Hay varias estructuras que podemos utilizar, los ciclos son `while`,  `for`; este ultimo se verá en otro cápitulo."
   ]
  },
  {
   "cell_type": "markdown",
   "id": "featured-texture",
   "metadata": {},
   "source": [
    "## 2.8.1 Estructura `while`\n",
    "\n",
    "La sintaxis de la estructura `while` es muy sencilla; es la siguiente:\n",
    "\n",
    "```python\n",
    "while condicion_verdadera:\n",
    "    línea de código\n",
    "    línea de código\n",
    "    línea de código\n",
    "    ...\n",
    "```\n",
    "\n",
    "La forma de leerla es: **mientras la condición se cumpla seguira dentro del ciclo**.\n",
    "\n",
    "*Lo que tiene esta estructura es que al momento de preguntar por primera vez, sino cumple la condición no entra al ciclo.*"
   ]
  },
  {
   "cell_type": "markdown",
   "id": "understanding-tampa",
   "metadata": {},
   "source": [
    "### 2.8.1.1 Ejemplo\n",
    "\n",
    "1. **Vamos a imprimir 10 números, desde el 0 al 9, en cada vuelta del ciclo debemos tener una variable que nos ayude a saber cuando hayamos terminado.**"
   ]
  },
  {
   "cell_type": "code",
   "execution_count": null,
   "id": "corporate-dairy",
   "metadata": {},
   "outputs": [],
   "source": [
    "contador = 0 # declaro mi variable auxiliar \"contador\"\n",
    "\n",
    "while contador < 10:\n",
    "    print(contador)     # imprimir el valor del contador\n",
    "    contador = contador + 1 # incremento al contador\n",
    "    \n",
    "print(\"El ciclo termino\")"
   ]
  },
  {
   "cell_type": "markdown",
   "id": "external-scotland",
   "metadata": {},
   "source": [
    "2. **Imprimir la tabla del 7, que vaya desde el 1 al 10.**"
   ]
  },
  {
   "cell_type": "code",
   "execution_count": null,
   "id": "threaded-matrix",
   "metadata": {},
   "outputs": [],
   "source": [
    "tabla = 7\n",
    "contador = 1\n",
    "\n",
    "while contador <= 10:\n",
    "    print(tabla * contador)\n",
    "    contador += 1"
   ]
  },
  {
   "cell_type": "markdown",
   "id": "excessive-titanium",
   "metadata": {},
   "source": [
    "3. **solicitar al usuario 10 números e indicar si es par o impar**"
   ]
  },
  {
   "cell_type": "code",
   "execution_count": null,
   "id": "opened-punishment",
   "metadata": {},
   "outputs": [],
   "source": [
    "contador = 1\n",
    "\n",
    "print(\"Par o Impar\")\n",
    "\n",
    "while contador <= 10:\n",
    "    numero = int(input(\"Dar valor \" + str(contador) + \": \"))\n",
    "    \n",
    "    if numero % 2 == 0:\n",
    "        print(\"El valor \" + str(numero) + \" es par\")\n",
    "    else:\n",
    "        print(\"El valor \" + str(numero) + \" es impar\")\n",
    "    print(\"-------------------------------------------\")\n",
    "\n",
    "    contador +=1"
   ]
  },
  {
   "cell_type": "markdown",
   "id": "curious-parcel",
   "metadata": {},
   "source": [
    "4. **Solicitar las 3 calificaciones de materia e imprimir su promedio con la frase de \"Aprobo\" o \"Reprobo\" dependiendo el caso**"
   ]
  },
  {
   "cell_type": "code",
   "execution_count": null,
   "id": "rough-california",
   "metadata": {
    "scrolled": true
   },
   "outputs": [],
   "source": [
    "print(\"Calculadora de promedio final\")\n",
    "\n",
    "suma = 0 # guarda la suma de los parciales\n",
    "calificaciones = 1 # variable que lleva el coteo\n",
    "\n",
    "while calificaciones <= 3:\n",
    "    calificacion = int( input(\"Dar calificacion \" + str(calificaciones) + \": \") )\n",
    "    suma += calificacion\n",
    "    calificaciones += 1\n",
    "    \n",
    "promedio = suma / 3\n",
    "\n",
    "if(promedio < 6 ):\n",
    "    print(\"No has aprobado, tu promedio es \" + str(promedio))\n",
    "else:\n",
    "    print(\"Has aprobado, tu promedio es \" + str(promedio))"
   ]
  },
  {
   "cell_type": "markdown",
   "id": "jewish-expense",
   "metadata": {},
   "source": [
    "5. **Reaizar una calculadora para sumar y restar, pero hasta que el usuario de la opcion de salir el programa terminará**"
   ]
  },
  {
   "cell_type": "code",
   "execution_count": null,
   "id": "senior-implementation",
   "metadata": {},
   "outputs": [],
   "source": [
    "opcion = 0\n",
    "\n",
    "while opcion != 3:    \n",
    "    print(\"-------------------------------------\")\n",
    "    print(\"Calculadora Suma y Resta\")\n",
    "    print(\"1. Suma\")\n",
    "    print(\"2. Resta\")\n",
    "    print(\"3. Salir\")\n",
    "    opcion = int(input())\n",
    "\n",
    "    if opcion == 1:\n",
    "        valor1 = float(input(\"Dar el primer valor\"))\n",
    "        valor2 = float(input(\"Dar el segundo valor\"))\n",
    "        print(\"La suma es: \" + str(valor1 + valor2))\n",
    "    if opcion == 2:\n",
    "        valor1 = float(input(\"Dar el primer valor\"))\n",
    "        valor2 = float(input(\"Dar el segundo valor\"))\n",
    "        print(\"La resta es: \" + str(valor1 - valor2))\n",
    "    if opcion > 3 or opcion < 1:\n",
    "        print(\"La opcion no existe\")\n",
    "\n",
    "print(\"Programa a finalizado\")   "
   ]
  },
  {
   "cell_type": "markdown",
   "id": "seeing-divorce",
   "metadata": {},
   "source": [
    "### Ejercicios:\n",
    "\n",
    "1. Imprimir la tabla del 8, del 1 al 10, con el siguiente formato \"8 x 1 = 8\"\n",
    "2. Realizar un programa que solicite 10 numeros e imprima si es par o impar y si es mayor a 10 que lo indique, de lo contrario solo dice \"es impar\"\n",
    "5. Realizar un programa solicite los 3 parciales de Matematicas, e imprimir el promedio, pero si reprueba, ahora tendra que pedir el resultado de su extra, en caso que haya pasado el extra, le dara su calificacion final y le dira \"aprobado\". En caso que no apruebe su extra, solo le dirá \"estas en recursamiento\""
   ]
  },
  {
   "cell_type": "markdown",
   "id": "young-postcard",
   "metadata": {},
   "source": [
    "## 2.8.2 Continue y Break\n",
    "\n",
    "Existen 2 palabras reservadas que nos ayudan a un control mas complejo dentro de los ciclos, que son `break` y `continue`.\n",
    "\n",
    "- La palabra reservada `break` me sirve para romper un ciclo cuando yo no necesite, muy util en ciclos infinitos que necesitemos `romper`.\n",
    "- La palabra reservada `continue` me sirve para ignorar el codigo restante e iniciar la siguiente vuelta del ciclo.\n"
   ]
  },
  {
   "cell_type": "code",
   "execution_count": null,
   "id": "photographic-stewart",
   "metadata": {},
   "outputs": [],
   "source": [
    "# Vamos a hacer un ciclo infinito el cual vamos a romper cuando una condicion se cumpla\n",
    "\n",
    "contador = 0\n",
    "\n",
    "while True: # ciclo infinito\n",
    "    print('El valor del contador es: ' + str(contador))\n",
    "    contador+=1\n",
    "   \n",
    "    if contador == 5: # en el momento que esta condicion se cumple entra y encuentra break\n",
    "        print(\"Se rompe el ciclo en el valor \" + str(contador))\n",
    "        break   # cuando se ejecute esta linea el ciclo termina        "
   ]
  },
  {
   "cell_type": "code",
   "execution_count": null,
   "id": "celtic-proposition",
   "metadata": {},
   "outputs": [],
   "source": [
    "# vamos a hacer que el ciclo ignore todo el codigo que tiene por debajo cuando encuentre la palabra continue\n",
    "\n",
    "contador = 0\n",
    "\n",
    "while contador < 5:\n",
    "    contador+=1\n",
    "    \n",
    "    if contador == 3:\n",
    "        continue\n",
    "    print(f\"El valor del contador es: {contador}\")\n",
    "    "
   ]
  },
  {
   "cell_type": "code",
   "execution_count": null,
   "id": "ahead-fraud",
   "metadata": {},
   "outputs": [],
   "source": [
    "# Realizar una calculadora que sume y reste, mostrando un menu indicando las opciones,\n",
    "# Debe tener la opcion de salir, en caso que ingrese una opcion que no existe,\n",
    "# mandar el mensaje de que la opcion no es valida. El programa termina cuando el usuario\n",
    "# ingresa la opcion de salir, de lo contrario debe seguir mostrando el menu con las opciones\n",
    "while True:    \n",
    "    print(\"-------------------------------------\")\n",
    "    print(\"Calculadora Suma y Resta\")\n",
    "    print(\"1. Suma\")\n",
    "    print(\"2. Resta\")\n",
    "    print(\"3. Salir\")\n",
    "    opcion = int(input())\n",
    "\n",
    "    if opcion == 1:\n",
    "        valor1 = float(input(\"Dar el primer valor\"))\n",
    "        valor2 = float(input(\"Dar el segundo valor\"))\n",
    "        suma = valor1 + valo2\n",
    "        print(\"La suma es: \" + str(suma))\n",
    "    elif opcion == 2:\n",
    "        valor1 = float(input(\"Dar el primer valor\"))\n",
    "        valor2 = float(input(\"Dar el segundo valor\"))\n",
    "        print(\"La resta es: \" + str(valor1 - valor2))\n",
    "    elif opcion == 3:\n",
    "        print(\"Programa a finalizado\")\n",
    "        break\n",
    "    else:\n",
    "        print(\"La opcion no existe\")"
   ]
  },
  {
   "cell_type": "markdown",
   "id": "surface-oxford",
   "metadata": {},
   "source": [
    "Realizado por Docente: [Alejandro Leyva](https://www.alejandro-leyva.com/)"
   ]
  }
 ],
 "metadata": {
  "kernelspec": {
   "display_name": "Python 3",
   "language": "python",
   "name": "python3"
  },
  "language_info": {
   "codemirror_mode": {
    "name": "ipython",
    "version": 3
   },
   "file_extension": ".py",
   "mimetype": "text/x-python",
   "name": "python",
   "nbconvert_exporter": "python",
   "pygments_lexer": "ipython3",
   "version": "3.7.3"
  }
 },
 "nbformat": 4,
 "nbformat_minor": 5
}
