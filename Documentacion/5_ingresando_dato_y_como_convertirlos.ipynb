{
 "cells": [
  {
   "cell_type": "markdown",
   "id": "special-performance",
   "metadata": {},
   "source": [
    "![banner](../logo/banner.png)"
   ]
  },
  {
   "cell_type": "markdown",
   "id": "wicked-hampshire",
   "metadata": {},
   "source": [
    "# 2.5 Ingresando dato y cómo convertirlos\n",
    "\n",
    "## 2.5.1 Funcion `input()`\n",
    "\n",
    "La función input sirve para leer datos desde teclado en la terminal.\n",
    "\n",
    "**Sintaxis:**\n",
    "\n",
    "```python\n",
    "input(prompt)\n",
    "```\n",
    "\n",
    "**Parametros:**\n",
    "\n",
    "- `prompt (opcional): Es un string que se puede colocar para que aparezca antes del ingreso de datos`\n",
    "- `return: Regresa el texto que ingresen desde terminal : (str)`"
   ]
  },
  {
   "cell_type": "markdown",
   "id": "featured-texture",
   "metadata": {},
   "source": [
    "**Ejemplo:**\n",
    "\n",
    "Cuando queremos recibir datos del usuario debemos guardarla en una variable para posteriormente utilizarla. Recordemos que nos regresara esa información en tipo `str`.\n",
    "\n",
    "```python\n",
    "datos = input()\n",
    "```\n"
   ]
  },
  {
   "cell_type": "code",
   "execution_count": 2,
   "id": "opposite-evanescence",
   "metadata": {},
   "outputs": [
    {
     "name": "stdout",
     "output_type": "stream",
     "text": [
      "Ingreso de datos\n",
      "25\n",
      "impresion de datos\n",
      "25\n"
     ]
    }
   ],
   "source": [
    "print('Ingreso de datos')\n",
    "datos = input()\n",
    "\n",
    "print('impresion de datos')\n",
    "print(datos)"
   ]
  },
  {
   "cell_type": "markdown",
   "id": "external-scotland",
   "metadata": {},
   "source": [
    "Ahora si queremos que el usuario vea un mensaje y a continuación coloque los datos, debemos pasarle el valor para el argumento `prompt` entre los paréntesis.\n",
    "\n",
    "```python\n",
    "edad = input(\"Dar la edad\")\n",
    "```"
   ]
  },
  {
   "cell_type": "code",
   "execution_count": 7,
   "id": "western-cleaning",
   "metadata": {},
   "outputs": [
    {
     "name": "stdout",
     "output_type": "stream",
     "text": [
      "Dar edad: 25\n",
      "Tu edad es: 25\n"
     ]
    }
   ],
   "source": [
    "edad = input(\"Dar edad: \")# devuelve un str\n",
    "\n",
    "print(\"Tu edad es: \" + edad)"
   ]
  },
  {
   "cell_type": "markdown",
   "id": "coordinate-minority",
   "metadata": {},
   "source": [
    "## 5.5.2 Funcion `int()`"
   ]
  },
  {
   "cell_type": "markdown",
   "id": "english-elizabeth",
   "metadata": {},
   "source": [
    "En muchas ocasiones puedes tener un `número entero` almacenado en una variable pero no exactamnete es tipo `número`. Entonces, en ese caso necesitamos que sea de tipo `int` para poder realizar operaciones con él. Para esos casos contamos con la función `int()`\n",
    "\n",
    "**Sintaxis:**\n",
    "\n",
    "```python\n",
    "int(value, base)\n",
    "``` \n",
    "\n",
    "**Parametros:**\n",
    "\n",
    "- `value: Un número o un string que puede ser convertido a número entero`\n",
    "- `base (opcional) : El formato con el que representa el número. Default value: 10`\n",
    "    - `base: 10 -> decimal (Valor por default)`  \n",
    "    - `base: 2 -> binario`\n",
    "    - `base: 16 -> hexadecimal `\n",
    "- `return: el valor en tipo int (decimal por default)`"
   ]
  },
  {
   "cell_type": "code",
   "execution_count": 8,
   "id": "south-services",
   "metadata": {},
   "outputs": [
    {
     "name": "stdout",
     "output_type": "stream",
     "text": [
      "100\n",
      "10\n",
      "255\n"
     ]
    }
   ],
   "source": [
    "decimal = int(\"100\")       # el valor es decimal, por default lo toma así\n",
    "binario = int(\"1010\", 2)   # el valor que pasamos esta en binario\n",
    "hexadecimal = int(\"FF\",16) #el valor que pasamos esta en hexadecimal\n",
    "\n",
    "print(decimal)\n",
    "print(binario)\n",
    "print(hexadecimal)"
   ]
  },
  {
   "cell_type": "markdown",
   "id": "together-egyptian",
   "metadata": {},
   "source": [
    "## 5.5.3 Funcion `float()`"
   ]
  },
  {
   "cell_type": "markdown",
   "id": "sudden-helmet",
   "metadata": {},
   "source": [
    "En muchas ocasiones puedes tener un `número de punto flotante` almacenado en una variable pero no exactamnete es tipo `número`. Entonces, en ese caso necesitamos que sea de tipo `float` para poder realizar operaciones con él. Para esos casos contamos con la función `float()`\n",
    "\n",
    "**Sintaxis:**\n",
    "\n",
    "```python\n",
    "float(value)\n",
    "```\n",
    "\n",
    "**Parametros:**\n",
    "\n",
    "- `value: Un número o string que puede ser convertido en tipo número float`\n",
    "- `return: Regresa un tipo float`"
   ]
  },
  {
   "cell_type": "code",
   "execution_count": 14,
   "id": "environmental-innocent",
   "metadata": {},
   "outputs": [
    {
     "name": "stdout",
     "output_type": "stream",
     "text": [
      "1.68\n",
      "4.3\n",
      "0.5\n"
     ]
    }
   ],
   "source": [
    "altura = float(\"1.680000\")\n",
    "valor = float(\"4.30000\")\n",
    "un_medio = float(\".5\")\n",
    "\n",
    "print(altura)\n",
    "print(valor)\n",
    "print(un_medio)"
   ]
  },
  {
   "cell_type": "markdown",
   "id": "missing-composition",
   "metadata": {},
   "source": [
    "## 5.5.4 Funcion `bool()`"
   ]
  },
  {
   "cell_type": "markdown",
   "id": "vanilla-taxation",
   "metadata": {},
   "source": [
    "En muchas ocasiones puedes tener `una expresion booleana` almacenado en una variable pero no exactamnete es tipo `booleano`. Entonces, en ese caso necesitamos que sea de tipo `boolean` para poder realizar operaciones con él. Para esos casos contamos con la función `bool()`\n",
    "\n",
    "**Sintaxis:**\n",
    "\n",
    "```python\n",
    "bool(object)\n",
    "```\n",
    "\n",
    "**Parametros:**\n",
    "\n",
    "- `object: Cualquier objet, string, lista, numero, etc.`\n",
    "- `return: Regresa un tipo boolean`\n",
    "\n",
    "La función siempre regresa `True`, a menos que:\n",
    "\n",
    "- El objetos esté vacío, como `[]`, `()`, `{}`\n",
    "- El objeto es `False`\n",
    "- El objeto es `0`\n",
    "- El objeto es `None`\n",
    "- Cadena vacia `\"\"`\n",
    "\n",
    "En todos estos casos, retorna `False`"
   ]
  },
  {
   "cell_type": "code",
   "execution_count": 18,
   "id": "cooked-trustee",
   "metadata": {},
   "outputs": [
    {
     "name": "stdout",
     "output_type": "stream",
     "text": [
      "True\n",
      "False\n",
      "False\n",
      "True\n",
      "True\n",
      "False\n"
     ]
    }
   ],
   "source": [
    "uno = bool(1)\n",
    "cero = bool(0)\n",
    "falso = bool(False)\n",
    "verdadero = bool(True)\n",
    "texto = bool(\"hola\")\n",
    "texto_vacio = bool(\"\")\n",
    "\n",
    "print(uno)\n",
    "print(cero)\n",
    "print(falso)\n",
    "print(verdadero)\n",
    "print(texto)\n",
    "print(texto_vacio)"
   ]
  },
  {
   "cell_type": "markdown",
   "id": "southeast-persian",
   "metadata": {},
   "source": [
    "## Aplicaciones\n",
    "\n",
    "**1. Pedir dos numeros e imprimir el resultado**"
   ]
  },
  {
   "cell_type": "code",
   "execution_count": 20,
   "id": "tribal-situation",
   "metadata": {},
   "outputs": [
    {
     "name": "stdout",
     "output_type": "stream",
     "text": [
      "Mi super calculador de 2 numeros\n",
      "Dar el valor 1: 50\n",
      "Dar el valor 2: 265\n",
      "El resultado es: 315\n"
     ]
    }
   ],
   "source": [
    "print(\"Mi super calculador de 2 numeros\")\n",
    "valor1 = int(input(\"Dar el valor 1: \"))\n",
    "valor2 = int(input(\"Dar el valor 2: \"))\n",
    "\n",
    "suma = valor1 + valor2\n",
    "\n",
    "print(\"El resultado es: \" + str(suma))"
   ]
  },
  {
   "cell_type": "markdown",
   "id": "defensive-pursuit",
   "metadata": {},
   "source": [
    "**2. Calculadora de Segunda Ley**"
   ]
  },
  {
   "cell_type": "code",
   "execution_count": 22,
   "id": "therapeutic-nothing",
   "metadata": {},
   "outputs": [
    {
     "name": "stdout",
     "output_type": "stream",
     "text": [
      "Calculadora de Segunda Ley - Fuerza\n",
      "Dar el valor de la masa (kg):10\n",
      "Dar el valor de la aceleracion (m/s^2):25\n",
      "la fuerza es: 250.0N\n"
     ]
    }
   ],
   "source": [
    "# F = m * a\n",
    "print(\"Calculadora de Segunda Ley - Fuerza\")\n",
    "masa = float( input(\"Dar el valor de la masa (kg):\" ) )\n",
    "aceleracion = float( input(\"Dar el valor de la aceleracion (m/s^2):\"  )  )\n",
    "\n",
    "fuerza =  masa * aceleracion\n",
    "\n",
    "print(\"la fuerza es: \" + str(fuerza)+ \"N\")"
   ]
  },
  {
   "cell_type": "markdown",
   "id": "systematic-blond",
   "metadata": {},
   "source": [
    "**3. Programa que calcule las resistencias en serie, el usuario debe ingresar 3 resistencias**"
   ]
  },
  {
   "cell_type": "code",
   "execution_count": 24,
   "id": "allied-mayor",
   "metadata": {},
   "outputs": [
    {
     "name": "stdout",
     "output_type": "stream",
     "text": [
      "Dar tres resistencias para obtener su valor en serie\n",
      "Dar valores en ohms\n",
      "Valor de resistencia 1: 26\n",
      "Valor de resistencia 2: 58\n",
      "Valor de resistencia 3: 62\n",
      "El valor total en serie es 146.0 ohms\n"
     ]
    }
   ],
   "source": [
    "print(\"Dar tres resistencias para obtener su valor en serie\")\n",
    "print(\"Dar valores en ohms\")\n",
    "resistencia1 = float( input(\"Valor de resistencia 1: \")  )\n",
    "resistencia2 = float( input(\"Valor de resistencia 2: \")  )\n",
    "resistencia3 = float( input(\"Valor de resistencia 3: \")  )\n",
    "\n",
    "resitencia_total = resistencia1 + resistencia2 + resistencia\n",
    "\n",
    "print(\"El valor total en serie es \" + str(resitencia_total) + \" ohms\")"
   ]
  },
  {
   "cell_type": "markdown",
   "id": "overhead-sodium",
   "metadata": {},
   "source": [
    "### Ejercicios\n",
    "\n",
    "1. Hacer un programa que calcule el area y el perimetro del circulo, pidiendo los datos al usuario\n",
    "2. Hacer un programa que calcule 3 resistencias en paralelo, solicitando la informacion al usuario"
   ]
  },
  {
   "cell_type": "markdown",
   "id": "surface-oxford",
   "metadata": {},
   "source": [
    "---\n",
    "Realizado por Docente: [Alejandro Leyva](https://www.alejandro-leyva.com/)\n",
    "\n",
    "[Mecatrónica 85](https://mecatronica85.com/)\n",
    "\n",
    "[fb/mecatronica85](https://www.facebook.com/mecatronica85)"
   ]
  }
 ],
 "metadata": {
  "kernelspec": {
   "display_name": "Python 3",
   "language": "python",
   "name": "python3"
  },
  "language_info": {
   "codemirror_mode": {
    "name": "ipython",
    "version": 3
   },
   "file_extension": ".py",
   "mimetype": "text/x-python",
   "name": "python",
   "nbconvert_exporter": "python",
   "pygments_lexer": "ipython3",
   "version": "3.7.3"
  }
 },
 "nbformat": 4,
 "nbformat_minor": 5
}
