{
 "cells": [
  {
   "cell_type": "markdown",
   "id": "special-performance",
   "metadata": {},
   "source": [
    "![banner](../logo/banner.png)"
   ]
  },
  {
   "cell_type": "markdown",
   "id": "wicked-hampshire",
   "metadata": {},
   "source": [
    "# 2.6 Decisiones  `if` `if-else` `elif`\n",
    "\n",
    "## 2.6.1 ¿Qué es una estructura de decisión?\n",
    "\n",
    "Dentro de la programación tenemos una estructura que nos ayuda a poder tomar decisiones con base a una comparación y de esta manera poder tomar un camino o tomar otro. Es una sentencias `IF`s la cual no ayuda a tomar la ruta que necesitemos\n"
   ]
  },
  {
   "cell_type": "markdown",
   "id": "featured-texture",
   "metadata": {},
   "source": [
    "## 2.6.2 Estructura `if`\n",
    "\n",
    "Python la única referencia que ocupa es la **identación**, sean `espacios` o `tabs` y dos puntos `:` para indicar que comienza un bloque nuevo, en este caso una sentencia `if`.\n",
    "\n",
    "```python\n",
    "if comparacion_verdadera :\n",
    "    código que ejecuta si es verdadero\n",
    "    más código\n",
    "    ...\n",
    "```"
   ]
  },
  {
   "cell_type": "markdown",
   "id": "understanding-tampa",
   "metadata": {},
   "source": [
    "## 2.6.3 Operadores de comparación\n",
    "\n",
    "Nombre | Símbolo | Ejemplo\n",
    ":-|:-:|:-\n",
    "Mayor que | `>` | `7 > 5 -> True`\n",
    "Mayor o igual que | `>=` | `8 >= 6 -> False`\n",
    "Menor que | `<` | ` 9 < 10  -> Falso`\n",
    "Menor o igual que | `<=` | ` 5 <= 5 -> True`\n",
    "Igual que | `==` | ` 4 == 2 -> False`\n",
    "Diferente de | `!=` | ` 9 != 9 -> False`\n",
    "\n",
    "*Nota: No puede existir espacio en el símbolo*\n"
   ]
  },
  {
   "cell_type": "markdown",
   "id": "external-scotland",
   "metadata": {},
   "source": [
    "## 2.6.4 Aplicando la estructura `if`\n",
    "\n",
    "Vamos a realizar el primer ejemplo:\n",
    "\n",
    "**1. Realizar un programa que nos diga si la edad de la persona es mayor de edad o menor de edad**\n",
    "\n",
    "Debemos comparar la edad para saber si es mayor o no, primero verificamos si es mayor de edad, en caso de que no sea así, el programa sigue y pregunta si es menor de edad, en caso de que sea verdadero, entra y da el mensaje correspondiente."
   ]
  },
  {
   "cell_type": "code",
   "execution_count": 9,
   "id": "imposed-nothing",
   "metadata": {},
   "outputs": [
    {
     "name": "stdout",
     "output_type": "stream",
     "text": [
      "Es mayor de edad\n",
      "fin del programa\n"
     ]
    }
   ],
   "source": [
    "edad = 19 #Declaramos una variable donde guardaremos la edad y asignamos el valor de 18\n",
    "\n",
    "if edad >= 18:  # recordemos que se hace una comparacion y despues los dos puntos (:)\n",
    "    print(\"Es mayor de edad\")   #Recordemos que se debe aplicar una identacion\n",
    "    \n",
    "if edad < 18:    # recordemos que se hace una comparacion y despues los dos puntos (:)\n",
    "    print(\"Es menor de edad\") #Recordemos que se debe aplicar una identacion\n",
    "    \n",
    "print(\"fin del programa\")"
   ]
  },
  {
   "cell_type": "markdown",
   "id": "democratic-breath",
   "metadata": {},
   "source": [
    "**2. Realizar un programa que nos diga si la edad de la persona es mayor de edad o menor de edad, la edad debe ser ingreasada desde terminal**\n",
    "\n",
    "Debemos primero perdir la edad, una vez guardada debemos comparar la edad para saber si es mayor o no, primero verificamos si es mayor de edad, en caso de que no sea así, el programa sigue y pregunta si es menor de edad, en caso de que sea verdadero, entra y da el mensaje correspondiente."
   ]
  },
  {
   "cell_type": "code",
   "execution_count": 2,
   "id": "driving-revelation",
   "metadata": {},
   "outputs": [
    {
     "name": "stdout",
     "output_type": "stream",
     "text": [
      "Dar edad: 20\n",
      "Eres mayor de edad\n"
     ]
    }
   ],
   "source": [
    "edad = input(\"Dar edad: \") #Pedimos el dato al usuario, este dato es tipo str\n",
    "edad_int = int(edad)       #la edad esta en tipo str, lo convertimos a int para poder realizar la comparación\n",
    "\n",
    "if edad_int >= 18:  # recordemos que se hace una comparacion y despues los dos puntos (:)\n",
    "    print(\"Eres mayor de edad\")   #Recordemos que se debe aplicar una identacion\n",
    "    \n",
    "if edad_int < 18:    # recordemos que se hace una comparacion y despues los dos puntos (:)\n",
    "    print(\"Eres menor de edad\") #Recordemos que se debe aplicar una identacion"
   ]
  },
  {
   "cell_type": "markdown",
   "id": "robust-armor",
   "metadata": {},
   "source": [
    "## 2.6.5 Estructura `if-else`\n",
    "\n",
    "En ocasiones necesitamos que nuestro programa tome una de las 2 rutas posibles, pero aquí en caso que no se cumpla la comparación entra al otro bloque si o si. Esta estructura es un `if-else`, *si se cumple la condición, realizo la acción, de lo contrario hago otra*\n",
    "\n",
    "```python\n",
    "if comparacion_verdadera :\n",
    "    código que ejecuta si es verdadero\n",
    "    más código\n",
    "    ...\n",
    "else:\n",
    "    de lo contrario se ejecuto este código\n",
    "    más código\n",
    "    ...\n",
    "```"
   ]
  },
  {
   "cell_type": "markdown",
   "id": "prompt-buffalo",
   "metadata": {},
   "source": [
    "Vamos a realizar el primer ejemplo:\n",
    "\n",
    "**3. Realizar un programa que nos diga si la edad de la persona es mayor de edad o menor de edad**\n",
    "\n",
    "*Volveremos a realizar el mismo ejemplo, pero si nos damos cuenta en este ejercicio, si no es el primer caso debe ser el segundo, no tenemos otro ruta o alguna otra decisión.*"
   ]
  },
  {
   "cell_type": "code",
   "execution_count": 3,
   "id": "preceding-needle",
   "metadata": {},
   "outputs": [
    {
     "name": "stdout",
     "output_type": "stream",
     "text": [
      "Dar la edad: 22\n",
      "Es mayor de edad\n"
     ]
    }
   ],
   "source": [
    "edad = int(input(\"Dar la edad: \")) # Tomamos el dato y directamente la conversion de str a int\n",
    "\n",
    "if edad >= 18:  # recordemos que se hace una comparacion y despues los dos puntos (:)\n",
    "    print(\"Es mayor de edad\")   #Recordemos que se debe aplicar una identacion\n",
    "else:           #aplicamos la palabra reservada else y sus dos puntos, esta sección siempre se ejucatará siempre que no se cumpla la condición inicial   \n",
    "    print(\"Es menor de edad\") #Recordemos que se debe aplicar una identacion"
   ]
  },
  {
   "cell_type": "markdown",
   "id": "corresponding-pacific",
   "metadata": {},
   "source": [
    "**4. Realizar una calculadora que pueda solo sumar y restar, dando estas opciones al usuario y realizando la opción eligida**"
   ]
  },
  {
   "cell_type": "code",
   "execution_count": 7,
   "id": "instrumental-jimmy",
   "metadata": {},
   "outputs": [
    {
     "name": "stdout",
     "output_type": "stream",
     "text": [
      "Calcualdora de Suma y Resta\n",
      "1) Suma\n",
      "2) Resta\n",
      "1\n",
      "====== SUMA =======\n",
      "Dar valor 1: 10\n",
      "Dar valor 2: 36\n",
      "La suma es: 46\n"
     ]
    }
   ],
   "source": [
    "# Damos el menu y guardamos la opcion del usuario\n",
    "print(\"Calcualdora de Suma y Resta\")\n",
    "print(\"1) Suma\")\n",
    "print(\"2) Resta\")\n",
    "opcion = int(input())\n",
    "\n",
    "if opcion == 1:\n",
    "    print(\"====== SUMA =======\")\n",
    "    valor_1 = int(input(\"Dar valor 1: \" ))\n",
    "    valor_2 = int(input(\"Dar valor 2: \" ))\n",
    "    suma = valor_1 + valor_2\n",
    "    print(\"La suma es: \" + str(suma))\n",
    "else:\n",
    "    print(\"====== RESTA =======\")\n",
    "    valor_1 = int(input(\"Dar valor 1: \" ))\n",
    "    valor_2 = int(input(\"Dar valor 2: \" ))\n",
    "    resta = valor_1 - valor_2\n",
    "    print(\"La resta es: \" + str(resta))"
   ]
  },
  {
   "cell_type": "markdown",
   "id": "upper-collection",
   "metadata": {},
   "source": [
    "## 2.6.5 Estructura `elif`\n",
    "\n",
    "En ocasiones necesitamos verificar varias opciones y en alguna tiene que encajar o por ultimas terminar en una opción. Para esto tenemos que combinar muchos `if` con su `else`, para ello tenemos el siguiente operador, el cual nos ayuda a hacerlo de manera corta y fácil de leer. \n",
    "Para esto siempre debemos realizar una comparación si entra en ese bloque o va al siguiente, y por ultimo si no coincide con alguna, termina en un bloque por *default*.\n",
    "\n",
    "```python\n",
    "if comparacion_verdadera :\n",
    "    código que ejecuta si es verdadero\n",
    "    más código\n",
    "    ...\n",
    "elif comparacion_verdadera:\n",
    "    código que ejecuta si es verdadero\n",
    "    más código\n",
    "    ...\n",
    "elif comparacion_verdadera:\n",
    "    código que ejecuta si es verdadero\n",
    "    más código\n",
    "    ...\n",
    "else:   #en este caso es opcional\n",
    "    de lo contrario se ejecuto este código\n",
    "    más código\n",
    "    ...\n",
    "```"
   ]
  },
  {
   "cell_type": "markdown",
   "id": "excessive-titanium",
   "metadata": {},
   "source": [
    "**4. Realizar una calculadora que pueda solo sumar y restar, dando estas opciones al usuario y realizando la opción eligida, si da un opcion que no existe, simplemente termina el programa**\n",
    "\n",
    "En esta ocasión si el usuario no da una opción que no existe, terminamos el programa sin indicar nada"
   ]
  },
  {
   "cell_type": "code",
   "execution_count": 14,
   "id": "instructional-delicious",
   "metadata": {},
   "outputs": [
    {
     "name": "stdout",
     "output_type": "stream",
     "text": [
      "Calcualdora de Suma y Resta\n",
      "1) Suma\n",
      "2) Resta\n",
      "-6\n",
      "Saliendo del programa\n"
     ]
    }
   ],
   "source": [
    "# Damos el menu y guardamos la opcion del usuario\n",
    "print(\"Calcualdora de Suma y Resta\")\n",
    "print(\"1) Suma\")\n",
    "print(\"2) Resta\")\n",
    "opcion = int(input())\n",
    "\n",
    "if opcion == 1:\n",
    "    print(\"====== SUMA =======\")\n",
    "    valor_1 = int(input(\"Dar valor 1: \" ))\n",
    "    valor_2 = int(input(\"Dar valor 2: \" ))\n",
    "    suma = valor_1 + valor_2\n",
    "    print(\"La suma es: \" + str(suma))\n",
    "elif opcion == 2:\n",
    "    print(\"====== RESTA =======\")\n",
    "    valor_1 = int(input(\"Dar valor 1: \" ))\n",
    "    valor_2 = int(input(\"Dar valor 2: \" ))\n",
    "    resta = valor_1 - valor_2\n",
    "    print(\"La resta es: \" + str(resta))\n",
    "elif opcion >= 3:\n",
    "    print('Saliendo del programa')\n",
    "elif opcion < 0:\n",
    "    print('Saliendo del programa')\n",
    "    \n",
    "#    Dont Repeat Yourself -> No repitas a ti mismo"
   ]
  },
  {
   "cell_type": "markdown",
   "id": "mighty-raising",
   "metadata": {},
   "source": [
    "**5. Realizar una calculadora que pueda solo sumar y restar, dando estas opciones al usuario y realizando la opción eligida, si da un opcion que no existe indicar con un mensaje que la opción no existe**"
   ]
  },
  {
   "cell_type": "code",
   "execution_count": 19,
   "id": "married-justice",
   "metadata": {},
   "outputs": [
    {
     "name": "stdout",
     "output_type": "stream",
     "text": [
      "Calcualdora de Suma y Resta\n",
      "1) Suma\n",
      "2) Resta\n",
      "3\n",
      "Opcion no existe\n"
     ]
    }
   ],
   "source": [
    "# Damos el menu y guardamos la opcion del usuario\n",
    "print(\"Calcualdora de Suma y Resta\")\n",
    "print(\"1) Suma\")\n",
    "print(\"2) Resta\")\n",
    "opcion = int(input())\n",
    "\n",
    "if opcion == 1:\n",
    "    print(\"====== SUMA =======\")\n",
    "    valor_1 = int(input(\"Dar valor 1: \" ))\n",
    "    valor_2 = int(input(\"Dar valor 2: \" ))\n",
    "    suma = valor_1 + valor_2\n",
    "    print(\"La suma es: \" + str(suma))\n",
    "elif opcion == 2:\n",
    "    print(\"====== RESTA =======\")\n",
    "    valor_1 = int(input(\"Dar valor 1: \" ))\n",
    "    valor_2 = int(input(\"Dar valor 2: \" ))\n",
    "    resta = valor_1 - valor_2\n",
    "    print(\"La resta es: \" + str(resta))\n",
    "else:\n",
    "    print(\"Opcion no existe\")"
   ]
  },
  {
   "cell_type": "markdown",
   "id": "separated-whale",
   "metadata": {},
   "source": [
    "**Ejercicios:**\n",
    "\n",
    "1. Hacer la calculadora de area y perimetro de un cuadrado, las opciones son calcular el area y el perimetro del del cuadrado, si da una opcion que no existe, indicar con un mensaje que la \"opcion no existe\"."
   ]
  },
  {
   "cell_type": "markdown",
   "id": "hearing-ready",
   "metadata": {},
   "source": [
    "## 5.5.5 Short Hands \n",
    "\n",
    "### 5.5.5.1 Short Hands If\n",
    "\n",
    "Existe una versión corta cuando si la condición se cumple entra a hacer una cosa y termina.\n",
    "\n",
    "```python\n",
    "if condicion_verdadera: una_accion_a_realizar\n",
    "```"
   ]
  },
  {
   "cell_type": "code",
   "execution_count": 21,
   "id": "indie-particular",
   "metadata": {},
   "outputs": [
    {
     "name": "stdout",
     "output_type": "stream",
     "text": [
      "a es mas grande que b\n"
     ]
    }
   ],
   "source": [
    "a = 5\n",
    "b = 3\n",
    "\n",
    "if a > b: print(\"a es mas grande que b\")"
   ]
  },
  {
   "cell_type": "markdown",
   "id": "distant-success",
   "metadata": {},
   "source": [
    "## 5.5.6 Anidando `if`"
   ]
  },
  {
   "cell_type": "markdown",
   "id": "compact-battle",
   "metadata": {},
   "source": [
    "Podemos meter `if` dentro de otro `if`, no hay limites de anidamiento. Se pueden utilizar la cantidad de `if` que sean necesarios. Esta acción se llama `ifs anidados`"
   ]
  },
  {
   "cell_type": "code",
   "execution_count": 22,
   "id": "median-highway",
   "metadata": {},
   "outputs": [
    {
     "name": "stdout",
     "output_type": "stream",
     "text": [
      "30\n",
      "Mayor a 10\n",
      "Tambien mayor 20!\n"
     ]
    }
   ],
   "source": [
    "x = int(input(\"\"))\n",
    "\n",
    "if x > 10:\n",
    "    print(\"Mayor a 10\")\n",
    "    if x > 20:\n",
    "        print(\"Tambien mayor 20!\")\n",
    "    else:\n",
    "        print(\"Pero menor a  20.\")"
   ]
  },
  {
   "cell_type": "markdown",
   "id": "surface-oxford",
   "metadata": {},
   "source": [
    "---\n",
    "Realizado por Docente: [Alejandro Leyva](https://www.alejandro-leyva.com/)\n",
    "\n",
    "[Mecatrónica 85](https://mecatronica85.com/)\n",
    "\n",
    "[fb/mecatronica85](https://www.facebook.com/mecatronica85)"
   ]
  }
 ],
 "metadata": {
  "kernelspec": {
   "display_name": "Python 3",
   "language": "python",
   "name": "python3"
  },
  "language_info": {
   "codemirror_mode": {
    "name": "ipython",
    "version": 3
   },
   "file_extension": ".py",
   "mimetype": "text/x-python",
   "name": "python",
   "nbconvert_exporter": "python",
   "pygments_lexer": "ipython3",
   "version": "3.7.3"
  }
 },
 "nbformat": 4,
 "nbformat_minor": 5
}
