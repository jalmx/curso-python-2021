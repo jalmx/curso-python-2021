{
 "cells": [
  {
   "cell_type": "markdown",
   "id": "special-performance",
   "metadata": {},
   "source": [
    "![banner](../logo/banner.png)"
   ]
  },
  {
   "cell_type": "markdown",
   "id": "wicked-hampshire",
   "metadata": {},
   "source": [
    "# 2.4 Operadores aritméticos\n",
    "\n",
    "En Python contamos con varios operadores aritméticos."
   ]
  },
  {
   "cell_type": "markdown",
   "id": "featured-texture",
   "metadata": {},
   "source": [
    "Nombre| Símbolo| Ejemplo\n",
    ":-|:-:|-\n",
    "Suma| + | 4 + 2\n",
    "Resta| - | 4 - 5\n",
    "Negación| - | -2\n",
    "Multiplicación| * | 6 * 8\n",
    "División| / | 1 / 2\n",
    "División entera| // | 5 // 3\n",
    "Exponente| ** | 4\\**2\n",
    "Módulo| % | 5 % 2"
   ]
  },
  {
   "cell_type": "code",
   "execution_count": null,
   "id": "confidential-shock",
   "metadata": {},
   "outputs": [],
   "source": [
    "print(\"Suma\")\n",
    "print( 4 + 2)\n",
    "print(\"-------\")\n",
    "print(\"Resta\")\n",
    "print( 4 - 2)\n",
    "print(\"-------\")\n",
    "print(\"Negación\")\n",
    "a = 2\n",
    "print( -a) # -1 * a\n",
    "print(\"-------\")\n",
    "print(\"Multiplicación\")\n",
    "print( 4 * 2)\n",
    "print(\"-------\")\n",
    "print(\"División\")\n",
    "print( 1/2)\n",
    "print(\"-------\")\n",
    "print(\"División entera\")\n",
    "print( 10//3)\n",
    "print(\"-------\")\n",
    "print(\"Exponente\")\n",
    "print( 3**2) # 3^2\n",
    "print(\"-------\")\n",
    "print(\"Módulo o Residuo\") \n",
    "print(10 % 3) # 10%3 = 1"
   ]
  },
  {
   "cell_type": "markdown",
   "id": "understanding-tampa",
   "metadata": {},
   "source": [
    "## 2.4.1 Precedencia de operadores"
   ]
  },
  {
   "cell_type": "markdown",
   "id": "external-scotland",
   "metadata": {},
   "source": [
    "El orden de precedencia de ejecución de los operadores aritméticos es:\n",
    "\n",
    "Orden| Operador\n",
    ":-|:-|\n",
    "0. Agrupación ( )\n",
    "1. Exponente \\**\n",
    "2. Negación -\n",
    "3. Multiplicación, División, División entera, Módulo *, /, //, %\n",
    "4. Suma, Resta +, -\n"
   ]
  },
  {
   "cell_type": "markdown",
   "id": "ranging-movement",
   "metadata": {},
   "source": [
    "## Ejemplos:\n",
    "\n",
    "Convertir la expresion algebraica a una espresion computable\n",
    "\n",
    "1. $\\frac{2-3}{20}$\n",
    "2. $3 \\times \\frac{1}{2} + 8$\n",
    "3. $3^2 + 6^3 - \\frac{5}{10}$\n",
    "4. $\\frac{5 + 6 \\times 9}{6 \\times 1} + 3 - \\frac{8}{2}$\n",
    "5. $\\frac{6+8}{2*3-5}$"
   ]
  },
  {
   "cell_type": "code",
   "execution_count": null,
   "id": "prescribed-capability",
   "metadata": {},
   "outputs": [],
   "source": [
    "caso_1 = (2-3) / 20\n",
    "caso_2 = 3 * (1/2) + 8\n",
    "caso_3 = (3**2) + (6**3) - (5/10)\n",
    "caso_4 = ((5+(6*9)) / (6*1)) + 3 - (8/2)\n",
    "caso_5 = (6+8)/((2 * 3)- 5) \n",
    "\n",
    "print(\"Resultado caso 1: \" + str(caso_1) )\n",
    "print(\"Resultado caso 2: \" + str(caso_2) )\n",
    "print(\"Resultado caso 3: \" + str(caso_3) )\n",
    "print(\"Resultado caso 4: \" + str(caso_4) )\n",
    "print(\"Resultado caso 5: \" + str(caso_5) )"
   ]
  },
  {
   "cell_type": "markdown",
   "id": "excessive-titanium",
   "metadata": {},
   "source": [
    "## Ejercicios"
   ]
  },
  {
   "cell_type": "markdown",
   "id": "preliminary-parks",
   "metadata": {},
   "source": [
    "Guardar en una variable el resultado de la operacion e imprimir por consola el resultado de las siguientes operaciones:\n",
    "\n",
    "1. $\\frac{5 + 8}{2}$\n",
    "2. $\\frac{5 }{2} + 3$\n",
    "3. $5 + \\frac{1}{2} \\times 6$\n",
    "4. $5^2$\n",
    "5. $3 + \\frac{1}{2} \\times \\frac{5}{-2}$"
   ]
  },
  {
   "cell_type": "markdown",
   "id": "suspended-modem",
   "metadata": {},
   "source": [
    "## 2.4.2 Aplicaciones"
   ]
  },
  {
   "cell_type": "markdown",
   "id": "initial-miniature",
   "metadata": {},
   "source": [
    "Vamos resolver unos problemas basicos"
   ]
  },
  {
   "cell_type": "markdown",
   "id": "atomic-denver",
   "metadata": {},
   "source": [
    "1. Realizar una calculadora que sume 2 números, los valores estan en el programa\n",
    "2. Realizar una calculadora que haga la división de 2 números, los valores estan en el programa\n",
    "3. Realizar el cálculo de voltaje, los valores estan en el programa"
   ]
  },
  {
   "cell_type": "code",
   "execution_count": 2,
   "id": "hearing-football",
   "metadata": {},
   "outputs": [
    {
     "name": "stdout",
     "output_type": "stream",
     "text": [
      "La suma de 15 con 269 es: 284\n"
     ]
    }
   ],
   "source": [
    "# 1. Realizar una calculadora que sume 2 números que esten en el programa\n",
    "\n",
    "valor_1 = 15\n",
    "valor_2 = 269\n",
    "\n",
    "suma = valor_1 + valor_2\n",
    "\n",
    "print(\"La suma de \" + str(valor_1) + \" con \" + str(valor_2) + \" es: \" \n",
    "      + str(suma))"
   ]
  },
  {
   "cell_type": "code",
   "execution_count": 4,
   "id": "dramatic-forth",
   "metadata": {},
   "outputs": [
    {
     "name": "stdout",
     "output_type": "stream",
     "text": [
      "La division de 5 entre 20 es: 0.25\n"
     ]
    }
   ],
   "source": [
    "# 2. Realizar una calculadora que haga la división de 2 números, los valores estan en el programa\n",
    "valor_1 = 5\n",
    "valor_2 = 20\n",
    "\n",
    "division = valor_1 / valor_2\n",
    "\n",
    "print(\"La division de \" + str(valor_1) + \" entre \" + str(valor_2) +\n",
    "      \" es: \" + str(division))"
   ]
  },
  {
   "cell_type": "code",
   "execution_count": 3,
   "id": "supposed-bookmark",
   "metadata": {},
   "outputs": [
    {
     "name": "stdout",
     "output_type": "stream",
     "text": [
      "La corriente es 0.01A, la resistencia es: 1000 Ohms, el voltaje es: 10.0V\n"
     ]
    }
   ],
   "source": [
    "# 3. Realizar el cálculo de voltaje, los valores estan en el programa\n",
    "corriente = 0.01 # 10mA\n",
    "resistencia = 1000 #1k\n",
    "\n",
    "voltaje = corriente * resistencia\n",
    "\n",
    "print(\"La corriente es \" + str(corriente) + \"A, la resistencia es: \" + str(resistencia) \n",
    "      + \" Ohms, el voltaje es: \" + str(voltaje) + \"V\")"
   ]
  },
  {
   "cell_type": "markdown",
   "id": "fresh-tuition",
   "metadata": {},
   "source": [
    "### 2.4.2.1 Ejercicios\n",
    "\n",
    "- Segunda Ley, calcular fuerza con datos guardados. Formula $F = m * a$\n",
    "- Hacer la operacion de 5 resistencias en serie, dar resistencia total\n",
    "- Hacer el calculo de 5 resistencias en paralelo, dar resistencia total\n"
   ]
  },
  {
   "cell_type": "markdown",
   "id": "surface-oxford",
   "metadata": {},
   "source": [
    "---\n",
    "Realizado por Docente: [Alejandro Leyva](https://www.alejandro-leyva.com/)\n",
    "\n",
    "[Mecatrónica 85](https://mecatronica85.com/)\n",
    "\n",
    "[fb/mecatronica85](https://www.facebook.com/mecatronica85)"
   ]
  }
 ],
 "metadata": {
  "kernelspec": {
   "display_name": "Python 3",
   "language": "python",
   "name": "python3"
  },
  "language_info": {
   "codemirror_mode": {
    "name": "ipython",
    "version": 3
   },
   "file_extension": ".py",
   "mimetype": "text/x-python",
   "name": "python",
   "nbconvert_exporter": "python",
   "pygments_lexer": "ipython3",
   "version": "3.7.3"
  }
 },
 "nbformat": 4,
 "nbformat_minor": 5
}
