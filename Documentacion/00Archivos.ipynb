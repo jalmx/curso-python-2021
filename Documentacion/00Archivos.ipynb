{
 "cells": [
  {
   "cell_type": "markdown",
   "id": "special-performance",
   "metadata": {},
   "source": [
    "![banner](../logo/banner.png)"
   ]
  },
  {
   "cell_type": "markdown",
   "id": "wicked-hampshire",
   "metadata": {},
   "source": [
    "# Archivos\n",
    "\n",
    "El manejo de archivos en Python es algo nativo, es decir, por default te da una utileria para comenzar a trabajar con ellos. Esto significa que podemos abrir y leer el contenido de un archivo plano de una manera muy sencilla y rapida.\n"
   ]
  },
  {
   "cell_type": "markdown",
   "id": "featured-texture",
   "metadata": {},
   "source": [
    "## Funcion `open()`\n",
    "\n",
    "Con solo abrir un archivo de Python podemos llamar a la funcion `open` la cual le indicamos la ruta del archivo que queremos abrir y cargar su informacion, junto con el modo en que lo vamos a utilizar.\n",
    "\n",
    "**Sintaxis:**\n",
    "\n",
    "```python\n",
    "    open(ruta_archivo,modo,encoding)\n",
    "```\n",
    "\n",
    "**Parametros:**\n",
    "\n",
    "- `ruta_archivo`: Es la ruta del archivo que se va a carga, la ruta puede ser relativa o absoluta\n",
    "- `modo`: El modo es como se manejara el archivo, los modos son:\n",
    "    - `r`: Read - Valor por default. Abre el archivo para leerlo. Lanza error en caso que no exista.\n",
    "    - `w`: Write - Abre el archivo para leerlo, en caso que no exista lo creara.\n",
    "    - `a`: Append - Abre el archivo y todo lo que vayamos a escribir se lo agregara.\n",
    "    - `x`: Create - Crear el archivo, lanza error en caso que exista.\n",
    "    - `+`: Read-Write - Indica que tenemos el modo lectura y que podemos escribir en él.\n",
    "    - Modos adicionales:\n",
    "        - `t`: text (Valor por default)- Indica que el archivo es un texto plano.\n",
    "        - `b`: binario - Indica que es otro tipo de archivo, ejemplo: imagenes, archivos de word, excel, etc.\n",
    "- `encoding`: Formato de codificacion de caracteres. Por default no tiene, pero en nuestro caso que hablamos español, es combeniente colocar `utf-8`, con esto identifica acentos y todo lo relacionado al lenguaje.\n",
    "- **return** `file`: Regresa un Objeto tipo archivo.\n",
    "\n",
    "[Documentacion open()](https://docs.python.org/3/library/functions.html#open)"
   ]
  },
  {
   "cell_type": "markdown",
   "id": "coated-settle",
   "metadata": {},
   "source": [
    "### Metodos de los arhivos\n",
    "\n",
    "Los archivos tiene diversos metodos para manipular su contenido\n",
    "\n",
    "- `read([count])`: Lee todo el contenido del archivo y lo carga en memoria. Si indicamos el contador, solo lee esa cantidad de caracteres.\n",
    "- `readline()`: Lee una sola linea del archivo. Por default comienza en la primera.\n",
    "- `readlines()`: Crea una lista con el contenido de cada linea del archivo.\n",
    "- `write(data)`: Escribe lo que le pasamos como argumento.\n",
    "- `seek(position)`: Coloca el cursor en esa posicion dentro del archivo.\n",
    "- `close()`: Cierra el archivo. Esto siempre se debe hacer si se usa el metodo `open()` solo.\n",
    "\n",
    "*Nota: Contiene mas metodos, ir a la documentacion oficial de [IO](https://docs.python.org/3/library/io.html)*"
   ]
  },
  {
   "cell_type": "code",
   "execution_count": 2,
   "id": "foreign-gothic",
   "metadata": {},
   "outputs": [],
   "source": [
    "# Creando un archivo vacio\n",
    "\n",
    "mi_archivo = open('arhivo.txt','w') #aqui el archivo se crea y esta listo para escribir en él\n",
    "\n",
    "mi_archivo.close() # tenemos que cerrar el archivo"
   ]
  },
  {
   "cell_type": "markdown",
   "id": "understanding-tampa",
   "metadata": {},
   "source": [
    "## Bloque `with`\n",
    "\n",
    "Tenemos una palabra reservada `with` la cual nos facilita abrir un archivo y lo cierra en automatico al salir del bloque. Es decir, `with` toma la gestion de los archivos y nosotros nos enfocamos en utilizar la informacion obtenida de él. Lo mas recomendable es usar la palabra `with` con los archivos.\n",
    "\n",
    "**Sintaxis:**\n",
    "```python\n",
    "    with EXPRESSION as TARGET:\n",
    "        SUITE\n",
    "```\n",
    "\n",
    "```python\n",
    "    # Aplicado a archivos\n",
    "    with open('ruta','modo') as nombre_variable:\n",
    "        # codigo para manipular el archivo\n",
    "\n",
    "```\n",
    "\n",
    "Documentacion de [The with statement](https://docs.python.org/3/reference/compound_stmts.html#the-with-statement)"
   ]
  },
  {
   "cell_type": "markdown",
   "id": "excessive-titanium",
   "metadata": {},
   "source": []
  },
  {
   "cell_type": "markdown",
   "id": "surface-oxford",
   "metadata": {},
   "source": [
    "---\n",
    "Realizado por Docente: [Alejandro Leyva](https://www.alejandro-leyva.com/)\n",
    "\n",
    "[Mecatrónica 85](https://mecatronica85.com/)\n",
    "\n",
    "[fb/mecatronica85](https://www.facebook.com/mecatronica85)"
   ]
  }
 ],
 "metadata": {
  "kernelspec": {
   "display_name": "Python 3",
   "language": "python",
   "name": "python3"
  },
  "language_info": {
   "codemirror_mode": {
    "name": "ipython",
    "version": 3
   },
   "file_extension": ".py",
   "mimetype": "text/x-python",
   "name": "python",
   "nbconvert_exporter": "python",
   "pygments_lexer": "ipython3",
   "version": "3.7.3"
  }
 },
 "nbformat": 4,
 "nbformat_minor": 5
}
